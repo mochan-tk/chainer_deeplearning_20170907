{
 "cells": [
  {
   "cell_type": "code",
   "execution_count": 1,
   "metadata": {
    "collapsed": true
   },
   "outputs": [],
   "source": [
    "a=1"
   ]
  },
  {
   "cell_type": "code",
   "execution_count": 124,
   "metadata": {
    "collapsed": true
   },
   "outputs": [],
   "source": [
    "import chainer.links as L"
   ]
  },
  {
   "cell_type": "code",
   "execution_count": 125,
   "metadata": {},
   "outputs": [],
   "source": [
    "np.random.seed(3) # 乱数のシードを固定\n",
    "link = L.Linear(3,2)"
   ]
  },
  {
   "cell_type": "code",
   "execution_count": 126,
   "metadata": {},
   "outputs": [
    {
     "data": {
      "text/plain": [
       "variable W([[ 1.03266513,  0.25201908,  0.05571284],\n",
       "            [-1.07588804, -0.16015016, -0.20482019]])"
      ]
     },
     "execution_count": 126,
     "metadata": {},
     "output_type": "execute_result"
    }
   ],
   "source": [
    "link.W"
   ]
  },
  {
   "cell_type": "code",
   "execution_count": 127,
   "metadata": {},
   "outputs": [
    {
     "data": {
      "text/plain": [
       "'2.0.2'"
      ]
     },
     "execution_count": 127,
     "metadata": {},
     "output_type": "execute_result"
    }
   ],
   "source": [
    "import chainer\n",
    "chainer.__version__"
   ]
  },
  {
   "cell_type": "code",
   "execution_count": 128,
   "metadata": {},
   "outputs": [],
   "source": [
    "import numpy as numpy\n",
    "x = np.array([[1,2,3]], dtype = np.float32)\n",
    "u = link(x)"
   ]
  },
  {
   "cell_type": "code",
   "execution_count": 129,
   "metadata": {},
   "outputs": [
    {
     "data": {
      "text/plain": [
       "variable([[ 1.70384192, -2.01064897]])"
      ]
     },
     "execution_count": 129,
     "metadata": {},
     "output_type": "execute_result"
    }
   ],
   "source": [
    "u"
   ]
  },
  {
   "cell_type": "code",
   "execution_count": 130,
   "metadata": {},
   "outputs": [],
   "source": [
    "# zの計算\n",
    "import chainer.functions as F"
   ]
  },
  {
   "cell_type": "code",
   "execution_count": 224,
   "metadata": {},
   "outputs": [
    {
     "name": "stdout",
     "output_type": "stream",
     "text": [
      "variable([[ 1.70384192  0.        ]])\n"
     ]
    }
   ],
   "source": [
    "z = F.relu(u)\n",
    "print(z)"
   ]
  },
  {
   "cell_type": "markdown",
   "metadata": {},
   "source": [
    "### ４層のモデルを定義\n",
    "* 想定\n",
    "    * 入力層\n",
    "    * 2層目 ノード100\n",
    "    * 3層目 ノード30\n",
    "    * 出力層"
   ]
  },
  {
   "cell_type": "code",
   "execution_count": 225,
   "metadata": {
    "collapsed": true
   },
   "outputs": [],
   "source": [
    "class NN(chainer.Chain):\n",
    " \n",
    "    # モデルの構造を明示\n",
    "    def __init__(self, n_units1, n_units2, n_output):\n",
    "        super().__init__()\n",
    "        with self.init_scope():\n",
    "            self.l1 = L.Linear(None, n_units1)\n",
    "            self.l2 = L.Linear(None, n_units2)\n",
    "            self.l3 = L.Linear(None, n_output)\n",
    "            #self.l1 = L.Linear(1, 100)\n",
    "            #self.l2 = L.Linear(100, 30)\n",
    "            #self.l3 = L.Linear(30, 1)\n",
    " \n",
    "    # 損失関数の計算\n",
    "    def __call__(self, x, t):\n",
    "        y = self.predict(x)\n",
    "        loss = F.mean_squared_error(t, y)\n",
    "        return loss\n",
    " \n",
    "    # 予測値の計算（推論）\n",
    "    def predict(self, x):\n",
    "        # 1層\n",
    "        z1 = F.relu(self.l1(x))\n",
    "        #u1 = self.l1(x)\n",
    "        #z1 = F.relu(u1)\n",
    "        \n",
    "        # 2層\n",
    "        z2 = F.relu(self.l2(z1))\n",
    "        #u2 = self.l2(z1)\n",
    "        #z2 = F.relu(u2)\n",
    "        \n",
    "        #y = self.l3(z2)\n",
    "        return self.l3(z2)"
   ]
  },
  {
   "cell_type": "code",
   "execution_count": 226,
   "metadata": {
    "collapsed": true
   },
   "outputs": [],
   "source": [
    "# インスタンス化\n",
    "n_units1 = 100\n",
    "n_units2 = 30\n",
    "n_output = 1\n",
    "\n",
    "np.random.seed(1) # 乱数のシードを固定\n",
    "model = NN(n_units1, n_units2, n_output)"
   ]
  },
  {
   "cell_type": "code",
   "execution_count": 227,
   "metadata": {},
   "outputs": [
    {
     "data": {
      "text/plain": [
       "variable W(None)"
      ]
     },
     "execution_count": 227,
     "metadata": {},
     "output_type": "execute_result"
    }
   ],
   "source": [
    "model.l1.W"
   ]
  },
  {
   "cell_type": "code",
   "execution_count": 228,
   "metadata": {
    "collapsed": true
   },
   "outputs": [],
   "source": [
    "from chainer import optimizers"
   ]
  },
  {
   "cell_type": "code",
   "execution_count": 229,
   "metadata": {
    "collapsed": true
   },
   "outputs": [],
   "source": [
    "optimizer = optimizers.SGD() # 補足：確率的勾配降下法"
   ]
  },
  {
   "cell_type": "code",
   "execution_count": 230,
   "metadata": {},
   "outputs": [],
   "source": [
    "optimizer.setup(model)  # modelと紐付ける"
   ]
  },
  {
   "cell_type": "code",
   "execution_count": 231,
   "metadata": {
    "collapsed": true
   },
   "outputs": [],
   "source": [
    "x = np.linspace(-3, 3, 100).reshape(100,1)\n",
    "t = np.sin(x)"
   ]
  },
  {
   "cell_type": "code",
   "execution_count": 232,
   "metadata": {},
   "outputs": [
    {
     "data": {
      "image/png": "[encoded data removed]",
      "text/plain": [
       "<matplotlib.figure.Figure at 0x7fb1366f8748>"
      ]
     },
     "metadata": {},
     "output_type": "display_data"
    }
   ],
   "source": [
    "import matplotlib.pyplot as plt\n",
    "plt.scatter(x,t) # 散布図\n",
    "plt.show()"
   ]
  },
  {
   "cell_type": "markdown",
   "metadata": {},
   "source": [
    "## ここからニューラルネットワークで検証"
   ]
  },
  {
   "cell_type": "code",
   "execution_count": 233,
   "metadata": {
    "collapsed": true
   },
   "outputs": [],
   "source": [
    "from chainer import Variable\n",
    "\n",
    "# 事前にnp.float32に変換\n",
    "x = np.array(x, dtype=np.float32)\n",
    "t = np.array(t, dtype=np.float32)\n",
    "\n",
    "# Chainer用の変数として宣言\n",
    "x_ch = Variable(x)\n",
    "t_ch = Variable(t)"
   ]
  },
  {
   "cell_type": "code",
   "execution_count": 234,
   "metadata": {},
   "outputs": [
    {
     "data": {
      "text/plain": [
       "chainer.variable.Variable"
      ]
     },
     "execution_count": 234,
     "metadata": {},
     "output_type": "execute_result"
    }
   ],
   "source": [
    "type(t)\n",
    "type(t_ch)"
   ]
  },
  {
   "cell_type": "markdown",
   "metadata": {},
   "source": [
    "### モデルを学習させよう"
   ]
  },
  {
   "cell_type": "code",
   "execution_count": 235,
   "metadata": {
    "collapsed": true
   },
   "outputs": [],
   "source": [
    "# 1000回順伝播と逆伝播を繰り返す\n",
    "#for i in range(1000):\n",
    "#    model.cleargrads()  # 勾配情報の初期化（chainerの仕様）\n",
    "#    # Chainer1系の人は model.zerograds() を使ってください\n",
    "#    loss = model(x_ch, t_ch)  # 順伝播（評価関数の計算）\n",
    "#    loss.backward()  # 勾配（傾き）の計算 <-　誤差逆伝播法が使用されている\n",
    "#    optimizer.update()  # パラメータの調整"
   ]
  },
  {
   "cell_type": "markdown",
   "metadata": {},
   "source": [
    "### 学習の様子が見れるようにする"
   ]
  },
  {
   "cell_type": "code",
   "execution_count": 236,
   "metadata": {
    "collapsed": true
   },
   "outputs": [],
   "source": [
    "losses = []  # 追記：訓練結果保存用のリスト\n",
    "for i in range(1000):\n",
    "    model.cleargrads()\n",
    "    loss = model(x_ch, t_ch)\n",
    "    loss.backward()\n",
    "    optimizer.update()\n",
    "    # 追記：プロットするように保存しておく\n",
    "    losses.append(loss.data)"
   ]
  },
  {
   "cell_type": "code",
   "execution_count": 237,
   "metadata": {},
   "outputs": [
    {
     "data": {
      "image/png": "[encoded data removed]",
      "text/plain": [
       "<matplotlib.figure.Figure at 0x7fb13678cc50>"
      ]
     },
     "metadata": {},
     "output_type": "display_data"
    }
   ],
   "source": [
    "plt.plot(losses)\n",
    "plt.show()"
   ]
  },
  {
   "cell_type": "markdown",
   "metadata": {},
   "source": [
    "### 予測値の推論"
   ]
  },
  {
   "cell_type": "code",
   "execution_count": 238,
   "metadata": {
    "collapsed": true
   },
   "outputs": [],
   "source": [
    "y = model.predict(x_ch).data # dataをつけることでnumpyのarrayに変換できる"
   ]
  },
  {
   "cell_type": "code",
   "execution_count": 239,
   "metadata": {},
   "outputs": [
    {
     "data": {
      "image/png": "[encoded data removed]",
      "text/plain": [
       "<matplotlib.figure.Figure at 0x7fb13670f2b0>"
      ]
     },
     "metadata": {},
     "output_type": "display_data"
    }
   ],
   "source": [
    "plt.plot(x, t)  # 教師データ\n",
    "plt.scatter(x, y)  # 予測値 散布図\n",
    "plt.show()"
   ]
  },
  {
   "cell_type": "markdown",
   "metadata": {},
   "source": [
    "## 課題\n",
    "* 順伝播と逆伝播を5000回繰り返して、結果を確認する"
   ]
  },
  {
   "cell_type": "code",
   "execution_count": 240,
   "metadata": {
    "collapsed": true
   },
   "outputs": [],
   "source": [
    "# インスタンス化\n",
    "n_units1 = 100\n",
    "n_units2 = 30\n",
    "n_output = 1\n",
    "\n",
    "np.random.seed(1) # 乱数のシードを固定\n",
    "model = NN(n_units1, n_units2, n_output)"
   ]
  },
  {
   "cell_type": "code",
   "execution_count": 241,
   "metadata": {
    "collapsed": true
   },
   "outputs": [],
   "source": [
    "from chainer import optimizers\n",
    "optimizer = optimizers.SGD() # 補足：確率的勾配降下法\n",
    "optimizer.setup(model)  # modelと紐付ける"
   ]
  },
  {
   "cell_type": "code",
   "execution_count": 242,
   "metadata": {
    "collapsed": true
   },
   "outputs": [],
   "source": [
    "x = np.linspace(-3, 3, 100).reshape(100,1)\n",
    "t = np.sin(x)"
   ]
  },
  {
   "cell_type": "code",
   "execution_count": 243,
   "metadata": {
    "collapsed": true
   },
   "outputs": [],
   "source": [
    "from chainer import Variable\n",
    "\n",
    "# 事前にnp.float32に変換\n",
    "x = np.array(x, dtype=np.float32)\n",
    "t = np.array(t, dtype=np.float32)\n",
    "\n",
    "# Chainer用の変数として宣言\n",
    "x_ch = Variable(x)\n",
    "t_ch = Variable(t)"
   ]
  },
  {
   "cell_type": "code",
   "execution_count": 244,
   "metadata": {
    "collapsed": true
   },
   "outputs": [],
   "source": [
    "losses = []  # 追記：訓練結果保存用のリスト\n",
    "for i in range(5000):\n",
    "    model.cleargrads()\n",
    "    loss = model(x_ch, t_ch)\n",
    "    loss.backward()\n",
    "    optimizer.update()\n",
    "    # 追記：プロットするように保存しておく\n",
    "    losses.append(loss.data)"
   ]
  },
  {
   "cell_type": "code",
   "execution_count": 245,
   "metadata": {},
   "outputs": [
    {
     "data": {
      "image/png": "[encoded data removed]",
      "text/plain": [
       "<matplotlib.figure.Figure at 0x7fb1368df860>"
      ]
     },
     "metadata": {},
     "output_type": "display_data"
    }
   ],
   "source": [
    "plt.plot(losses)\n",
    "plt.show()"
   ]
  },
  {
   "cell_type": "code",
   "execution_count": 246,
   "metadata": {
    "collapsed": true
   },
   "outputs": [],
   "source": [
    "y = model.predict(x_ch).data # dataをつけることでnumpyのarrayに変換できる"
   ]
  },
  {
   "cell_type": "code",
   "execution_count": 247,
   "metadata": {},
   "outputs": [
    {
     "data": {
      "image/png": "[encoded data removed]",
      "text/plain": [
       "<matplotlib.figure.Figure at 0x7fb13692b6d8>"
      ]
     },
     "metadata": {},
     "output_type": "display_data"
    }
   ],
   "source": [
    "plt.plot(x, t)  # 教師データ\n",
    "plt.scatter(x, y)  # 予測値 散布図\n",
    "plt.show()"
   ]
  },
  {
   "cell_type": "markdown",
   "metadata": {},
   "source": [
    "## 発展課題\n",
    "* 層の数（今回４つ）やノードの数を変えて、挙動を確認する"
   ]
  },
  {
   "cell_type": "code",
   "execution_count": 248,
   "metadata": {
    "collapsed": true
   },
   "outputs": [],
   "source": [
    "class NN2(chainer.Chain):\n",
    " \n",
    "    # モデルの構造を明示\n",
    "    def __init__(self, n_units1, n_units2, n_units3, n_output):\n",
    "        super().__init__()\n",
    "        with self.init_scope():\n",
    "            self.l1 = L.Linear(None, n_units1)\n",
    "            self.l2 = L.Linear(None, n_units2)\n",
    "            self.l3 = L.Linear(None, n_units3)\n",
    "            self.l4 = L.Linear(None, n_output)\n",
    " \n",
    "    # 損失関数の計算\n",
    "    def __call__(self, x, t):\n",
    "        y = self.predict(x)\n",
    "        loss = F.mean_squared_error(t, y)\n",
    "        return loss\n",
    " \n",
    "    # 予測値の計算（推論）\n",
    "    def predict(self, x):\n",
    "        # 1層\n",
    "        z1 = F.relu(self.l1(x))\n",
    "        # 2層\n",
    "        z2 = F.relu(self.l2(z1))\n",
    "        # 3層\n",
    "        z3 = F.relu(self.l3(z2))\n",
    "        return self.l4(z3)"
   ]
  },
  {
   "cell_type": "code",
   "execution_count": 249,
   "metadata": {},
   "outputs": [],
   "source": [
    "# インスタンス化\n",
    "n_units1 = 100\n",
    "n_units2 = 30\n",
    "n_units3 = 50\n",
    "n_output = 1\n",
    "\n",
    "np.random.seed(1) # 乱数のシードを固定\n",
    "model = NN2(n_units1, n_units2, n_units3, n_output)"
   ]
  },
  {
   "cell_type": "code",
   "execution_count": 250,
   "metadata": {
    "collapsed": true
   },
   "outputs": [],
   "source": [
    "from chainer import optimizers\n",
    "optimizer = optimizers.SGD() # 補足：確率的勾配降下法\n",
    "optimizer.setup(model)  # modelと紐付ける"
   ]
  },
  {
   "cell_type": "code",
   "execution_count": 251,
   "metadata": {
    "collapsed": true
   },
   "outputs": [],
   "source": [
    "x = np.linspace(-3, 3, 100).reshape(100,1)\n",
    "t = np.sin(x)"
   ]
  },
  {
   "cell_type": "code",
   "execution_count": 252,
   "metadata": {
    "collapsed": true
   },
   "outputs": [],
   "source": [
    "from chainer import Variable\n",
    "\n",
    "# 事前にnp.float32に変換\n",
    "x = np.array(x, dtype=np.float32)\n",
    "t = np.array(t, dtype=np.float32)\n",
    "\n",
    "# Chainer用の変数として宣言\n",
    "x_ch = Variable(x)\n",
    "t_ch = Variable(t)"
   ]
  },
  {
   "cell_type": "code",
   "execution_count": 253,
   "metadata": {
    "collapsed": true
   },
   "outputs": [],
   "source": [
    "losses = []  # 追記：訓練結果保存用のリスト\n",
    "for i in range(1000):\n",
    "    model.cleargrads()\n",
    "    loss = model(x_ch, t_ch)\n",
    "    loss.backward()\n",
    "    optimizer.update()\n",
    "    # 追記：プロットするように保存しておく\n",
    "    losses.append(loss.data)"
   ]
  },
  {
   "cell_type": "code",
   "execution_count": 254,
   "metadata": {},
   "outputs": [
    {
     "data": {
      "image/png": "[encoded data removed]",
      "text/plain": [
       "<matplotlib.figure.Figure at 0x7fb13688bac8>"
      ]
     },
     "metadata": {},
     "output_type": "display_data"
    }
   ],
   "source": [
    "plt.plot(losses)\n",
    "plt.show()"
   ]
  },
  {
   "cell_type": "code",
   "execution_count": 255,
   "metadata": {
    "collapsed": true
   },
   "outputs": [],
   "source": [
    "y = model.predict(x_ch).data # dataをつけることでnumpyのarrayに変換できる"
   ]
  },
  {
   "cell_type": "code",
   "execution_count": 256,
   "metadata": {},
   "outputs": [
    {
     "data": {
      "image/png": "[encoded data removed]",
      "text/plain": [
       "<matplotlib.figure.Figure at 0x7fb136583518>"
      ]
     },
     "metadata": {},
     "output_type": "display_data"
    }
   ],
   "source": [
    "plt.plot(x, t)  # 教師データ\n",
    "plt.scatter(x, y)  # 予測値 散布図\n",
    "plt.show()"
   ]
  },
  {
   "cell_type": "markdown",
   "metadata": {},
   "source": [
    "## ちなみにOptimezerをAdamに変えてみる"
   ]
  },
  {
   "cell_type": "code",
   "execution_count": 257,
   "metadata": {
    "collapsed": true
   },
   "outputs": [],
   "source": [
    "class NN(chainer.Chain):\n",
    " \n",
    "    # モデルの構造を明示\n",
    "    def __init__(self, n_units1, n_units2, n_output):\n",
    "        super().__init__()\n",
    "        with self.init_scope():\n",
    "            self.l1 = L.Linear(None, n_units1)\n",
    "            self.l2 = L.Linear(None, n_units2)\n",
    "            self.l3 = L.Linear(None, n_output)\n",
    " \n",
    "    # 損失関数の計算\n",
    "    def __call__(self, x, t):\n",
    "        y = self.predict(x)\n",
    "        loss = F.mean_squared_error(t, y)\n",
    "        return loss\n",
    " \n",
    "    # 予測値の計算（推論）\n",
    "    def predict(self, x):\n",
    "        # 1層\n",
    "        z1 = F.relu(self.l1(x))\n",
    "        # 2層\n",
    "        z2 = F.relu(self.l2(z1))\n",
    "        return self.l3(z2)"
   ]
  },
  {
   "cell_type": "code",
   "execution_count": 258,
   "metadata": {},
   "outputs": [],
   "source": [
    "# インスタンス化\n",
    "n_units1 = 100\n",
    "n_units2 = 30\n",
    "n_output = 1\n",
    "\n",
    "np.random.seed(1) # 乱数のシードを固定\n",
    "model = NN(n_units1, n_units2, n_output)"
   ]
  },
  {
   "cell_type": "code",
   "execution_count": 259,
   "metadata": {
    "collapsed": true
   },
   "outputs": [],
   "source": [
    "from chainer import optimizers\n",
    "optimizer = optimizers.Adam()\n",
    "optimizer.setup(model)  # modelと紐付ける"
   ]
  },
  {
   "cell_type": "code",
   "execution_count": 260,
   "metadata": {
    "collapsed": true
   },
   "outputs": [],
   "source": [
    "x = np.linspace(-3, 3, 100).reshape(100,1)\n",
    "t = np.sin(x)"
   ]
  },
  {
   "cell_type": "code",
   "execution_count": 261,
   "metadata": {
    "collapsed": true
   },
   "outputs": [],
   "source": [
    "from chainer import Variable\n",
    "\n",
    "# 事前にnp.float32に変換\n",
    "x = np.array(x, dtype=np.float32)\n",
    "t = np.array(t, dtype=np.float32)\n",
    "\n",
    "# Chainer用の変数として宣言\n",
    "x_ch = Variable(x)\n",
    "t_ch = Variable(t)"
   ]
  },
  {
   "cell_type": "code",
   "execution_count": 262,
   "metadata": {
    "collapsed": true
   },
   "outputs": [],
   "source": [
    "losses = []  # 追記：訓練結果保存用のリスト\n",
    "for i in range(1000):\n",
    "    model.cleargrads()\n",
    "    loss = model(x_ch, t_ch)\n",
    "    loss.backward()\n",
    "    optimizer.update()\n",
    "    # 追記：プロットするように保存しておく\n",
    "    losses.append(loss.data)"
   ]
  },
  {
   "cell_type": "markdown",
   "metadata": {},
   "source": [
    "### 1000回でも学習が収束しているのが分かる。。"
   ]
  },
  {
   "cell_type": "code",
   "execution_count": 263,
   "metadata": {},
   "outputs": [
    {
     "data": {
      "image/png": "[encoded data removed]",
      "text/plain": [
       "<matplotlib.figure.Figure at 0x7fb136662b00>"
      ]
     },
     "metadata": {},
     "output_type": "display_data"
    }
   ],
   "source": [
    "plt.plot(losses)\n",
    "plt.show()"
   ]
  },
  {
   "cell_type": "code",
   "execution_count": 264,
   "metadata": {
    "collapsed": true
   },
   "outputs": [],
   "source": [
    "y = model.predict(x_ch).data # dataをつけることでnumpyのarrayに変換できる"
   ]
  },
  {
   "cell_type": "markdown",
   "metadata": {},
   "source": [
    "### Oh..完全にフィット（予測）できている。。"
   ]
  },
  {
   "cell_type": "code",
   "execution_count": 265,
   "metadata": {},
   "outputs": [
    {
     "data": {
      "image/png": "[encoded data removed]",
      "text/plain": [
       "<matplotlib.figure.Figure at 0x7fb13670dbe0>"
      ]
     },
     "metadata": {},
     "output_type": "display_data"
    }
   ],
   "source": [
    "plt.plot(x, t)  # 教師データ\n",
    "plt.scatter(x, y)  # 予測値 散布図\n",
    "plt.show()"
   ]
  },
  {
   "cell_type": "markdown",
   "metadata": {},
   "source": [
    "## Trainerを使っていこう"
   ]
  },
  {
   "cell_type": "code",
   "execution_count": 267,
   "metadata": {
    "collapsed": true
   },
   "outputs": [],
   "source": [
    "from chainer import report"
   ]
  },
  {
   "cell_type": "code",
   "execution_count": 268,
   "metadata": {
    "collapsed": true
   },
   "outputs": [],
   "source": [
    "class NN(chainer.Chain):\n",
    "    \n",
    "    def __init__(self, n_units1, n_units2, n_output):\n",
    "        super().__init__()\n",
    "        with self.init_scope():\n",
    "            self.l1 = L.Linear(None, n_units1)\n",
    "            self.l2 = L.Linear(None, n_units2)\n",
    "            self.l3 = L.Linear(None, n_output)\n",
    " \n",
    "    def __call__(self, x, t, train=True):\n",
    "        y = self.predict(x)\n",
    "        loss = F.mean_squared_error(y, t)\n",
    "        if train:\n",
    "            report({'loss': loss}, self)\n",
    "        return loss\n",
    "        \n",
    "    def predict(self, x):\n",
    "        z1 = F.relu(self.l1(x))\n",
    "        z2 = F.relu(self.l2(z1))\n",
    "        return self.l3(z2)"
   ]
  },
  {
   "cell_type": "code",
   "execution_count": 269,
   "metadata": {
    "collapsed": true
   },
   "outputs": [],
   "source": [
    "# 乱数のシードを固定 (再現性の確保)\n",
    "np.random.seed(1)\n",
    " \n",
    "# モデルの宣言\n",
    "n_units1, n_units2, n_output = 100, 30, 1\n",
    "model = NN(n_units1, n_units2, n_output)\n",
    " \n",
    "# optimizerの設定\n",
    "optimizer = optimizers.Adam() # とりあえずAdam使っとけ\n",
    "optimizer.setup(model)"
   ]
  },
  {
   "cell_type": "code",
   "execution_count": 272,
   "metadata": {
    "collapsed": true
   },
   "outputs": [],
   "source": [
    "# データセットの準備\n",
    "dataset = list(zip(x, t))"
   ]
  },
  {
   "cell_type": "code",
   "execution_count": 277,
   "metadata": {},
   "outputs": [
    {
     "data": {
      "text/plain": [
       "70"
      ]
     },
     "execution_count": 277,
     "metadata": {},
     "output_type": "execute_result"
    }
   ],
   "source": [
    "int(len(dataset) * 0.7)"
   ]
  },
  {
   "cell_type": "code",
   "execution_count": 279,
   "metadata": {
    "collapsed": true
   },
   "outputs": [],
   "source": [
    "from chainer.datasets import split_dataset_random\n",
    " \n",
    "n_train = int( len(dataset) * 0.7 )  # 訓練データのサイズ\n",
    "train, test = split_dataset_random(dataset, n_train, seed=1) # seedのoptionがあるかは超重要"
   ]
  },
  {
   "cell_type": "code",
   "execution_count": 281,
   "metadata": {},
   "outputs": [
    {
     "data": {
      "text/plain": [
       "70"
      ]
     },
     "execution_count": 281,
     "metadata": {},
     "output_type": "execute_result"
    }
   ],
   "source": [
    "len(test)\n",
    "len(train)"
   ]
  },
  {
   "cell_type": "code",
   "execution_count": 283,
   "metadata": {},
   "outputs": [],
   "source": [
    "batchsize = 20 # バッチサイズ\n",
    "train_iter = chainer.iterators.SerialIterator(train, batchsize)\n",
    "test_iter  = chainer.iterators.SerialIterator(test,  batchsize, repeat=False, shuffle=False)"
   ]
  },
  {
   "cell_type": "code",
   "execution_count": 284,
   "metadata": {
    "collapsed": true
   },
   "outputs": [],
   "source": [
    "from chainer import training\n",
    "updater = training.StandardUpdater(train_iter, optimizer, device=-1) # device -1:\n",
    "# updater = training.StandardUpdater(train_iter, optimizer)"
   ]
  },
  {
   "cell_type": "code",
   "execution_count": 285,
   "metadata": {
    "collapsed": true
   },
   "outputs": [],
   "source": [
    "# trainerとそのextensionsの設定\n",
    "from chainer.training import extensions\n",
    "\n",
    "# trainerの基本設定\n",
    "epoch = 1000\n",
    "trainer = training.Trainer(updater, (epoch, 'epoch'), out='result')\n",
    "\n",
    "# 検証データで評価\n",
    "trainer.extend(extensions.Evaluator(test_iter, model, device=-1))\n",
    "\n",
    "# 学習結果の途中を表示する\n",
    "trainer.extend(extensions.LogReport(trigger=(1, 'epoch')))\n",
    "\n",
    "# １エポックごとに、trainデータに対するlossと、testデータに対するloss、経過時間（elapsed_time）を標準出力させる\n",
    "trainer.extend(extensions.PrintReport(['epoch', 'main/loss', 'validation/main/loss', 'elapsed_time']), trigger=(1, 'epoch'))"
   ]
  },
  {
   "cell_type": "code",
   "execution_count": 286,
   "metadata": {},
   "outputs": [
    {
     "name": "stdout",
     "output_type": "stream",
     "text": [
      "epoch       main/loss   validation/main/loss  elapsed_time\n",
      "\u001b[J1           0.480527    0.277528              0.0255864     \n",
      "\u001b[J2           0.206597    0.253576              0.0415688     \n",
      "\u001b[J3           0.200485    0.171889              0.0584161     \n",
      "\u001b[J4           0.268708    0.141245              0.0720713     \n",
      "\u001b[J5           0.202333    0.163532              0.0890684     \n",
      "\u001b[J6           0.162949    0.192653              0.102551      \n",
      "\u001b[J7           0.165224    0.222079              0.11961       \n",
      "\u001b[J8           0.186866    0.235067              0.133358      \n",
      "\u001b[J9           0.159226    0.200474              0.150078      \n",
      "\u001b[J10          0.163326    0.168193              0.163954      \n",
      "\u001b[J11          0.151687    0.151185              0.180364      \n",
      "\u001b[J12          0.158771    0.152751              0.193956      \n",
      "\u001b[J13          0.14882     0.161873              0.210845      \n",
      "\u001b[J14          0.14619     0.168078              0.238383      \n",
      "\u001b[J15          0.144541    0.186804              0.257926      \n",
      "\u001b[J16          0.148636    0.185794              0.274697      \n",
      "\u001b[J17          0.135021    0.154055              0.29354       \n",
      "\u001b[J18          0.146973    0.14782               0.309025      \n",
      "\u001b[J19          0.144955    0.142675              0.328455      \n",
      "\u001b[J20          0.124193    0.146304              0.343888      \n",
      "\u001b[J21          0.135035    0.162483              0.362695      \n",
      "\u001b[J22          0.126968    0.167379              0.38008       \n",
      "\u001b[J23          0.133031    0.149297              0.399527      \n",
      "\u001b[J24          0.118907    0.140877              0.416132      \n",
      "\u001b[J25          0.126278    0.139137              0.4358        \n",
      "\u001b[J26          0.122448    0.138892              0.454801      \n",
      "\u001b[J27          0.122493    0.142617              0.476465      \n",
      "\u001b[J28          0.110527    0.141892              0.494587      \n",
      "\u001b[J29          0.116115    0.140337              0.514875      \n",
      "\u001b[J30          0.11087     0.131442              0.531128      \n",
      "\u001b[J31          0.114424    0.121357              0.551387      \n",
      "\u001b[J32          0.111665    0.124528              0.567993      \n",
      "\u001b[J33          0.110535    0.133546              0.588643      \n",
      "\u001b[J34          0.106347    0.134599              0.607389      \n",
      "\u001b[J35          0.10866     0.112867              0.627316      \n",
      "\u001b[J36          0.0992712   0.115225              0.644524      \n",
      "\u001b[J37          0.0940638   0.113554              0.667191      \n",
      "\u001b[J38          0.102577    0.116981              0.686165      \n",
      "\u001b[J39          0.0997412   0.112362              0.706379      \n",
      "\u001b[J40          0.0891937   0.105785              0.724601      \n",
      "\u001b[J41          0.0879426   0.108538              0.744227      \n",
      "\u001b[J42          0.0966824   0.104317              0.761871      \n",
      "\u001b[J43          0.0827774   0.0986235             0.783045      \n",
      "\u001b[J44          0.0907708   0.0949768             0.800098      \n",
      "\u001b[J45          0.0776844   0.0932066             0.819972      \n",
      "\u001b[J46          0.0878061   0.0962927             0.841421      \n",
      "\u001b[J47          0.0798557   0.0996189             0.862761      \n",
      "\u001b[J48          0.0777683   0.0919501             0.884856      \n",
      "\u001b[J49          0.0759471   0.0853015             0.906381      \n",
      "\u001b[J50          0.072404    0.0847589             0.924326      \n",
      "\u001b[J51          0.071532    0.0792966             0.946447      \n",
      "\u001b[J52          0.0738545   0.0847521             0.964441      \n",
      "\u001b[J53          0.0696301   0.0843698             0.986204      \n",
      "\u001b[J54          0.0676875   0.0809499             1.00457       \n",
      "\u001b[J55          0.0647466   0.0772339             1.03168       \n",
      "\u001b[J56          0.0655515   0.0721728             1.05033       \n",
      "\u001b[J57          0.0641484   0.0748247             1.06517       \n",
      "\u001b[J58          0.0650336   0.0671096             1.07745       \n",
      "\u001b[J59          0.0571353   0.0724539             1.10176       \n",
      "\u001b[J60          0.060223    0.0730359             1.11891       \n",
      "\u001b[J61          0.0588093   0.0668439             1.13965       \n",
      "\u001b[J62          0.051099    0.0603083             1.15721       \n",
      "\u001b[J63          0.0541358   0.056619              1.17808       \n",
      "\u001b[J64          0.0495559   0.0577798             1.19651       \n",
      "\u001b[J65          0.0510598   0.0645493             1.21762       \n",
      "\u001b[J66          0.0489095   0.0596697             1.24051       \n",
      "\u001b[J67          0.0489294   0.0518541             1.26236       \n",
      "\u001b[J68          0.0416536   0.0484302             1.28112       \n",
      "\u001b[J69          0.0477092   0.048927              1.30287       \n",
      "\u001b[J70          0.0404882   0.053362              1.32423       \n",
      "\u001b[J71          0.0432236   0.0496984             1.34536       \n",
      "\u001b[J72          0.0396846   0.0455001             1.36324       \n",
      "\u001b[J73          0.038349    0.0443528             1.38599       \n",
      "\u001b[J74          0.0413996   0.0460944             1.40605       \n",
      "\u001b[J75          0.0373994   0.0422358             1.42847       \n",
      "\u001b[J76          0.0380799   0.0421835             1.44847       \n",
      "\u001b[J77          0.0325725   0.0424065             1.47186       \n",
      "\u001b[J78          0.037103    0.0369021             1.50196       \n",
      "\u001b[J79          0.0317166   0.0353691             1.52815       \n",
      "\u001b[J80          0.0333089   0.0354034             1.54723       \n",
      "\u001b[J81          0.0333563   0.0373827             1.56909       \n",
      "\u001b[J82          0.0275792   0.0378032             1.58806       \n",
      "\u001b[J83          0.0298996   0.0314163             1.61012       \n",
      "\u001b[J84          0.0291943   0.0312764             1.62877       \n",
      "\u001b[J85          0.027378    0.032479              1.65081       \n",
      "\u001b[J86          0.026852    0.029861              1.66973       \n",
      "\u001b[J87          0.0247377   0.0265528             1.69259       \n",
      "\u001b[J88          0.0264017   0.0282493             1.71203       \n",
      "\u001b[J89          0.0246083   0.0296375             1.74282       \n",
      "\u001b[J90          0.0232465   0.0274345             1.7625        \n",
      "\u001b[J91          0.0205328   0.0229704             1.78549       \n",
      "\u001b[J92          0.0253278   0.0223881             1.80913       \n",
      "\u001b[J93          0.019641    0.0242355             1.833         \n",
      "\u001b[J94          0.0235131   0.0282026             1.85294       \n",
      "\u001b[J95          0.0224416   0.0230961             1.87587       \n",
      "\u001b[J96          0.0179155   0.0210698             1.89595       \n",
      "\u001b[J97          0.0192372   0.0190905             1.91831       \n",
      "\u001b[J98          0.0189473   0.01774               1.94118       \n",
      "\u001b[J99          0.0176891   0.0186653             1.96453       \n",
      "\u001b[J100         0.0184291   0.0186399             1.98452       \n",
      "\u001b[J101         0.0169289   0.0185014             2.00798       \n",
      "\u001b[J102         0.016002    0.0180366             2.02802       \n",
      "\u001b[J103         0.014971    0.0154811             2.0512        \n",
      "\u001b[J104         0.0179732   0.0153915             2.07133       \n",
      "\u001b[J105         0.0146066   0.0164912             2.09445       \n",
      "\u001b[J106         0.0144332   0.0168694             2.11439       \n",
      "\u001b[J107         0.0133413   0.0132847             2.14026       \n",
      "\u001b[J108         0.0155966   0.0121613             2.16192       \n",
      "\u001b[J109         0.0138415   0.0150217             2.1847        \n",
      "\u001b[J110         0.0120484   0.0148869             2.20431       \n",
      "\u001b[J111         0.0115822   0.0113625             2.22779       \n",
      "\u001b[J112         0.0134249   0.011399              2.24729       \n",
      "\u001b[J113         0.0138579   0.0130334             2.26967       \n",
      "\u001b[J114         0.00841363  0.0120227             2.28893       \n",
      "\u001b[J115         0.0111422   0.0108687             2.31087       \n",
      "\u001b[J116         0.00960758  0.0104498             2.32984       \n",
      "\u001b[J117         0.0104391   0.00975576            2.35405       \n",
      "\u001b[J118         0.00930134  0.00978318            2.38456       \n",
      "\u001b[J119         0.00939887  0.0101004             2.40894       \n",
      "\u001b[J120         0.00974848  0.00917181            2.4298        \n",
      "\u001b[J121         0.00861109  0.00930987            2.45428       \n",
      "\u001b[J122         0.00898102  0.008527              2.47559       \n",
      "\u001b[J123         0.00830625  0.0089033             2.50011       \n",
      "\u001b[J124         0.0083986   0.00878253            2.52203       \n",
      "\u001b[J125         0.00805833  0.00696922            2.54657       \n",
      "\u001b[J126         0.00768514  0.00774763            2.56883       \n",
      "\u001b[J127         0.00694226  0.00794354            2.58708       \n",
      "\u001b[J128         0.00786911  0.00704123            2.60344       \n",
      "\u001b[J129         0.00683624  0.00677155            2.62281       \n",
      "\u001b[J130         0.00746377  0.00632223            2.63873       \n",
      "\u001b[J131         0.00722167  0.00659548            2.65833       \n",
      "\u001b[J132         0.00595736  0.00659863            2.67522       \n",
      "\u001b[J133         0.00638731  0.00584273            2.69506       \n",
      "\u001b[J134         0.00637421  0.00551258            2.71119       \n",
      "\u001b[J135         0.00643653  0.00705958            2.73116       \n",
      "\u001b[J136         0.00573188  0.00566716            2.74389       \n",
      "\u001b[J137         0.00587101  0.00533733            2.75775       \n"
     ]
    },
    {
     "name": "stdout",
     "output_type": "stream",
     "text": [
      "\u001b[J138         0.00559587  0.00637116            2.77121       \n",
      "\u001b[J139         0.00590484  0.00467762            2.79295       \n",
      "\u001b[J140         0.00527345  0.00538127            2.8136        \n",
      "\u001b[J141         0.00596364  0.00458762            2.83787       \n",
      "\u001b[J142         0.00400093  0.00624629            2.85901       \n",
      "\u001b[J143         0.00443582  0.00453166            2.8853        \n",
      "\u001b[J144         0.00505909  0.00400946            2.90709       \n",
      "\u001b[J145         0.00449914  0.00583268            2.93261       \n",
      "\u001b[J146         0.00420292  0.00479592            2.95587       \n",
      "\u001b[J147         0.00407836  0.00354089            2.98651       \n",
      "\u001b[J148         0.00460085  0.00378408            3.00943       \n",
      "\u001b[J149         0.00359454  0.00566903            3.03502       \n",
      "\u001b[J150         0.00435485  0.00466114            3.0566        \n",
      "\u001b[J151         0.00375158  0.00307434            3.08216       \n",
      "\u001b[J152         0.00391226  0.00388488            3.09964       \n",
      "\u001b[J153         0.003316    0.00387605            3.12031       \n",
      "\u001b[J154         0.00382602  0.00390068            3.13588       \n",
      "\u001b[J155         0.00337405  0.00337251            3.15363       \n",
      "\u001b[J156         0.00325447  0.00304071            3.16913       \n",
      "\u001b[J157         0.00334492  0.00369039            3.18698       \n",
      "\u001b[J158         0.0030593   0.00386565            3.20418       \n",
      "\u001b[J159         0.00308174  0.00280873            3.22341       \n",
      "\u001b[J160         0.00299794  0.0025296             3.24614       \n",
      "\u001b[J161         0.00267888  0.00470502            3.27527       \n",
      "\u001b[J162         0.00341365  0.00370716            3.29727       \n",
      "\u001b[J163         0.00290458  0.00235637            3.32303       \n",
      "\u001b[J164         0.00312899  0.00317759            3.34915       \n",
      "\u001b[J165         0.00300688  0.00242095            3.38193       \n",
      "\u001b[J166         0.00289687  0.00523142            3.41699       \n",
      "\u001b[J167         0.00388524  0.00286005            3.44436       \n",
      "\u001b[J168         0.00254697  0.00242559            3.46916       \n",
      "\u001b[J169         0.00337575  0.00512787            3.49603       \n",
      "\u001b[J170         0.00305951  0.00250103            3.5196        \n",
      "\u001b[J171         0.00348523  0.00320329            3.55281       \n",
      "\u001b[J172         0.00374453  0.00355755            3.57527       \n",
      "\u001b[J173         0.00320218  0.00336612            3.6014        \n",
      "\u001b[J174         0.00261179  0.00299551            3.62436       \n",
      "\u001b[J175         0.00250025  0.00302162            3.656         \n",
      "\u001b[J176         0.00271745  0.00314716            3.67948       \n",
      "\u001b[J177         0.00225883  0.0018087             3.70672       \n",
      "\u001b[J178         0.00244936  0.00268643            3.72978       \n",
      "\u001b[J179         0.00202154  0.00228611            3.75402       \n",
      "\u001b[J180         0.00187105  0.00246172            3.7745        \n",
      "\u001b[J181         0.00199511  0.00255247            3.79831       \n",
      "\u001b[J182         0.00182579  0.00171422            3.81919       \n",
      "\u001b[J183         0.00200238  0.00194224            3.84568       \n",
      "\u001b[J184         0.00176424  0.0025835             3.86725       \n",
      "\u001b[J185         0.00205372  0.00189026            3.89216       \n",
      "\u001b[J186         0.00175378  0.001982              3.9138        \n",
      "\u001b[J187         0.00189945  0.00270428            3.94306       \n",
      "\u001b[J188         0.0015034   0.0020174             3.96932       \n",
      "\u001b[J189         0.00180786  0.00135747            3.99813       \n",
      "\u001b[J190         0.0019715   0.00340398            4.02476       \n",
      "\u001b[J191         0.00171995  0.00237619            4.05309       \n",
      "\u001b[J192         0.00143049  0.00210882            4.08303       \n",
      "\u001b[J193         0.00145208  0.00147281            4.11197       \n",
      "\u001b[J194         0.00109327  0.00128297            4.13722       \n",
      "\u001b[J195         0.00114755  0.00173357            4.16601       \n",
      "\u001b[J196         0.00135718  0.00228631            4.19074       \n",
      "\u001b[J197         0.00141023  0.0011594             4.22161       \n",
      "\u001b[J198         0.00123293  0.00165637            4.24662       \n",
      "\u001b[J199         0.00111993  0.0020274             4.27653       \n",
      "\u001b[J200         0.0014738   0.00141946            4.30056       \n",
      "\u001b[J201         0.00117645  0.00142537            4.32832       \n",
      "\u001b[J202         0.00114343  0.00107998            4.35718       \n",
      "\u001b[J203         0.00107895  0.00168578            4.38962       \n",
      "\u001b[J204         0.00107593  0.00139045            4.41805       \n",
      "\u001b[J205         0.00098408  0.00139419            4.4463        \n",
      "\u001b[J206         0.000991385  0.00127303            4.47151       \n",
      "\u001b[J207         0.000987266  0.00112717            4.50794       \n",
      "\u001b[J208         0.000991559  0.00133249            4.53203       \n",
      "\u001b[J209         0.000997605  0.00133132            4.56033       \n",
      "\u001b[J210         0.00135801  0.00099398            4.58512       \n",
      "\u001b[J211         0.000858765  0.00144935            4.61373       \n",
      "\u001b[J212         0.00108357  0.00123739            4.63886       \n",
      "\u001b[J213         0.00105397  0.00160288            4.66719       \n",
      "\u001b[J214         0.000685049  0.00129705            4.69191       \n",
      "\u001b[J215         0.000998455  0.000884985           4.71525       \n",
      "\u001b[J216         0.000834132  0.00122486            4.73935       \n",
      "\u001b[J217         0.000842056  0.00164334            4.76462       \n",
      "\u001b[J218         0.000979632  0.00108957            4.78771       \n",
      "\u001b[J219         0.000745911  0.00116289            4.81255       \n",
      "\u001b[J220         0.000964756  0.000805263           4.83555       \n",
      "\u001b[J221         0.000771327  0.0015395             4.86015       \n",
      "\u001b[J222         0.000875442  0.000864346           4.88223       \n",
      "\u001b[J223         0.00084957  0.00110718            4.90692       \n",
      "\u001b[J224         0.000821559  0.000972748           4.93118       \n",
      "\u001b[J225         0.000707366  0.000807223           4.96258       \n",
      "\u001b[J226         0.000779851  0.00123601            4.99025       \n",
      "\u001b[J227         0.000862789  0.000984753           5.02171       \n",
      "\u001b[J228         0.000893385  0.000930862           5.04945       \n",
      "\u001b[J229         0.000950796  0.000846753           5.08007       \n",
      "\u001b[J230         0.000789116  0.00129654            5.10819       \n",
      "\u001b[J231         0.00104862  0.00118607            5.13895       \n",
      "\u001b[J232         0.000866193  0.00069634            5.17078       \n",
      "\u001b[J233         0.000687529  0.00156777            5.20237       \n",
      "\u001b[J234         0.000863186  0.000930425           5.22659       \n",
      "\u001b[J235         0.000759287  0.00103408            5.25053       \n",
      "\u001b[J236         0.000781515  0.000911234           5.26937       \n",
      "\u001b[J237         0.000519396  0.000773543           5.29021       \n",
      "\u001b[J238         0.000658728  0.00132175            5.30938       \n",
      "\u001b[J239         0.000585711  0.000568543           5.33081       \n",
      "\u001b[J240         0.000694689  0.000868088           5.35619       \n",
      "\u001b[J241         0.000555762  0.000712666           5.38974       \n",
      "\u001b[J242         0.000647047  0.000755066           5.41361       \n",
      "\u001b[J243         0.000573569  0.000935016           5.43553       \n",
      "\u001b[J244         0.000674683  0.000973556           5.45468       \n",
      "\u001b[J245         0.000643748  0.000584975           5.4761        \n",
      "\u001b[J246         0.000451169  0.000692783           5.49595       \n",
      "\u001b[J247         0.000473404  0.000727236           5.51747       \n",
      "\u001b[J248         0.000551593  0.000842615           5.53744       \n",
      "\u001b[J249         0.00066304  0.00067853            5.5591        \n",
      "\u001b[J250         0.000687378  0.000625767           5.58646       \n",
      "\u001b[J251         0.000965106  0.000933216           5.62071       \n",
      "\u001b[J252         0.00108988  0.000687462           5.65472       \n",
      "\u001b[J253         0.000760248  0.000973182           5.69392       \n",
      "\u001b[J254         0.000809799  0.00114267            5.72157       \n",
      "\u001b[J255         0.00061313  0.000785062           5.7539        \n",
      "\u001b[J256         0.000598967  0.000730357           5.78169       \n",
      "\u001b[J257         0.000518093  0.000608667           5.83208       \n",
      "\u001b[J258         0.000389807  0.000581226           5.86087       \n",
      "\u001b[J259         0.000492526  0.000797872           5.89223       \n",
      "\u001b[J260         0.000517706  0.000606123           5.91887       \n",
      "\u001b[J261         0.000501121  0.000660209           5.95474       \n",
      "\u001b[J262         0.000446095  0.000656861           5.98361       \n",
      "\u001b[J263         0.000375638  0.000609327           6.01987       \n",
      "\u001b[J264         0.000508302  0.000460455           6.05628       \n",
      "\u001b[J265         0.000345348  0.00058079            6.09746       \n",
      "\u001b[J266         0.000487331  0.000678285           6.13078       \n",
      "\u001b[J267         0.00045425  0.000449502           6.16098       \n",
      "\u001b[J268         0.000268356  0.000594682           6.19152       \n"
     ]
    },
    {
     "name": "stdout",
     "output_type": "stream",
     "text": [
      "\u001b[J269         0.000420072  0.000659738           6.22525       \n",
      "\u001b[J270         0.000414247  0.000584027           6.25615       \n",
      "\u001b[J271         0.000377557  0.000514612           6.29477       \n",
      "\u001b[J272         0.000377886  0.000423362           6.33159       \n",
      "\u001b[J273         0.00048746  0.000531061           6.36848       \n",
      "\u001b[J274         0.000276494  0.000648213           6.39357       \n",
      "\u001b[J275         0.000345855  0.000513838           6.4217        \n",
      "\u001b[J276         0.00043696  0.000456895           6.449         \n",
      "\u001b[J277         0.000331446  0.000487985           6.47919       \n",
      "\u001b[J278         0.000452311  0.000402517           6.50604       \n",
      "\u001b[J279         0.00048555  0.000418014           6.5341        \n",
      "\u001b[J280         0.000431044  0.000415063           6.55949       \n",
      "\u001b[J281         0.000363282  0.000858069           6.58793       \n",
      "\u001b[J282         0.00042902  0.000764218           6.61422       \n",
      "\u001b[J283         0.000506021  0.000973089           6.64241       \n",
      "\u001b[J284         0.000461094  0.00038981            6.66996       \n",
      "\u001b[J285         0.000664128  0.000788575           6.70118       \n",
      "\u001b[J286         0.000505192  0.00211434            6.72767       \n",
      "\u001b[J287         0.000492632  0.000801549           6.75585       \n",
      "\u001b[J288         0.000724048  0.000903989           6.78454       \n",
      "\u001b[J289         0.000477554  0.000435897           6.81687       \n",
      "\u001b[J290         0.000427857  0.000549468           6.84894       \n",
      "\u001b[J291         0.000400577  0.000495199           6.88067       \n",
      "\u001b[J292         0.000345312  0.000337817           6.91002       \n",
      "\u001b[J293         0.00029145  0.000572255           6.94182       \n",
      "\u001b[J294         0.00033895  0.000585186           6.97021       \n",
      "\u001b[J295         0.000321796  0.000394733           7.00204       \n",
      "\u001b[J296         0.00026682  0.000365616           7.03061       \n",
      "\u001b[J297         0.000292228  0.00045207            7.06238       \n",
      "\u001b[J298         0.000310838  0.000478099           7.09131       \n",
      "\u001b[J299         0.000278952  0.000468681           7.12462       \n",
      "\u001b[J300         0.000216195  0.000287905           7.1541        \n",
      "\u001b[J301         0.000280745  0.000426128           7.18691       \n",
      "\u001b[J302         0.000294963  0.000427719           7.21671       \n",
      "\u001b[J303         0.000260225  0.000347031           7.24794       \n",
      "\u001b[J304         0.000233209  0.000445598           7.2794        \n",
      "\u001b[J305         0.000318516  0.000305198           7.31603       \n",
      "\u001b[J306         0.000300031  0.000584597           7.34763       \n",
      "\u001b[J307         0.000222511  0.000291151           7.37674       \n",
      "\u001b[J308         0.000241428  0.00032981            7.39471       \n",
      "\u001b[J309         0.000206569  0.000483376           7.4157        \n",
      "\u001b[J310         0.000271501  0.000368855           7.43374       \n",
      "\u001b[J311         0.000218577  0.000290044           7.4533        \n",
      "\u001b[J312         0.000294171  0.000268168           7.4714        \n",
      "\u001b[J313         0.00024136  0.00045748            7.49188       \n",
      "\u001b[J314         0.000229734  0.00029526            7.51069       \n",
      "\u001b[J315         0.000207699  0.000416694           7.53006       \n",
      "\u001b[J316         0.000193262  0.0002959             7.54892       \n",
      "\u001b[J317         0.000238379  0.000417743           7.56885       \n",
      "\u001b[J318         0.000164025  0.000270783           7.58664       \n",
      "\u001b[J319         0.000222087  0.000283521           7.607         \n",
      "\u001b[J320         0.000277224  0.000469617           7.62536       \n",
      "\u001b[J321         0.000298821  0.000397571           7.64531       \n",
      "\u001b[J322         0.000350231  0.000405204           7.66445       \n",
      "\u001b[J323         0.000403781  0.000298533           7.68426       \n",
      "\u001b[J324         0.000526341  0.000394395           7.7027        \n",
      "\u001b[J325         0.000485206  0.000245197           7.72374       \n",
      "\u001b[J326         0.000392308  0.000624205           7.74053       \n",
      "\u001b[J327         0.000361601  0.000338056           7.76097       \n",
      "\u001b[J328         0.000361037  0.000434874           7.77689       \n",
      "\u001b[J329         0.00040771  0.000305314           7.79409       \n",
      "\u001b[J330         0.000271547  0.000386168           7.80954       \n",
      "\u001b[J331         0.000292244  0.000286521           7.82702       \n",
      "\u001b[J332         0.00027965  0.00026766            7.85048       \n",
      "\u001b[J333         0.000211145  0.000636212           7.87073       \n",
      "\u001b[J334         0.000280727  0.000261453           7.88771       \n",
      "\u001b[J335         0.000303675  0.00142686            7.90624       \n",
      "\u001b[J336         0.000518918  0.000372657           7.92308       \n",
      "\u001b[J337         0.000596747  0.00109266            7.94184       \n",
      "\u001b[J338         0.00075518  0.000286745           7.96056       \n",
      "\u001b[J339         0.000667741  0.00217463            7.97908       \n",
      "\u001b[J340         0.00114731  0.000540656           7.99503       \n",
      "\u001b[J341         0.0012095   0.0011085             8.01376       \n",
      "\u001b[J342         0.00124998  0.00302644            8.03128       \n",
      "\u001b[J343         0.00132721  0.00053404            8.05068       \n",
      "\u001b[J344         0.000364455  0.00490969            8.06768       \n",
      "\u001b[J345         0.00128173  0.00179979            8.08629       \n",
      "\u001b[J346         0.00109347  0.00102364            8.10352       \n",
      "\u001b[J347         0.00109235  0.00112524            8.12236       \n",
      "\u001b[J348         0.00105091  0.000723695           8.13883       \n",
      "\u001b[J349         0.00107071  0.00114077            8.15745       \n",
      "\u001b[J350         0.000555879  0.00345342            8.18342       \n",
      "\u001b[J351         0.00147386  0.00271489            8.21676       \n",
      "\u001b[J352         0.000836007  0.000661208           8.24175       \n",
      "\u001b[J353         0.000935768  0.00170384            8.26864       \n",
      "\u001b[J354         0.00101049  0.00037237            8.29349       \n",
      "\u001b[J355         0.000934282  0.000816202           8.3224        \n",
      "\u001b[J356         0.000764216  0.00128952            8.35353       \n",
      "\u001b[J357         0.000423579  0.000504129           8.38056       \n",
      "\u001b[J358         0.000300787  0.000978063           8.40484       \n",
      "\u001b[J359         0.000397629  0.000573149           8.42806       \n",
      "\u001b[J360         0.000327183  0.000687725           8.44897       \n",
      "\u001b[J361         0.000201531  0.000211125           8.47122       \n",
      "\u001b[J362         0.000160231  0.000175763           8.49197       \n",
      "\u001b[J363         0.000162513  0.000188061           8.51428       \n",
      "\u001b[J364         0.000157729  0.000407111           8.53537       \n",
      "\u001b[J365         0.000174493  0.000247202           8.55823       \n",
      "\u001b[J366         0.000101005  0.000247046           8.58159       \n",
      "\u001b[J367         0.000151066  0.000175834           8.6041        \n",
      "\u001b[J368         0.000107934  0.000166033           8.62676       \n",
      "\u001b[J369         0.000124945  0.000223134           8.64905       \n",
      "\u001b[J370         0.000118691  0.000218934           8.66991       \n",
      "\u001b[J371         0.00013188  0.000210018           8.69205       \n",
      "\u001b[J372         0.000103748  0.000183567           8.71279       \n",
      "\u001b[J373         0.000131894  0.000248735           8.73385       \n",
      "\u001b[J374         0.000127906  0.000188496           8.75115       \n",
      "\u001b[J375         0.000128665  0.000197039           8.76994       \n",
      "\u001b[J376         0.000106727  0.000457609           8.78707       \n",
      "\u001b[J377         0.000127476  0.000178818           8.80553       \n",
      "\u001b[J378         0.000205388  0.000435283           8.82259       \n",
      "\u001b[J379         0.000166162  0.000165709           8.84229       \n",
      "\u001b[J380         0.000146642  0.000313116           8.86329       \n",
      "\u001b[J381         0.000129572  0.000239139           8.90152       \n",
      "\u001b[J382         0.000170085  0.000206964           8.94894       \n",
      "\u001b[J383         0.000126378  0.000230414           8.98265       \n",
      "\u001b[J384         0.000112226  0.000172441           8.99969       \n",
      "\u001b[J385         0.00010896  0.000224137           9.01884       \n",
      "\u001b[J386         0.000143449  0.000159403           9.0358        \n",
      "\u001b[J387         0.00014197  0.000439767           9.05903       \n",
      "\u001b[J388         0.000188851  0.000183582           9.08082       \n",
      "\u001b[J389         0.000148616  0.000249357           9.11647       \n",
      "\u001b[J390         0.000108389  0.00015885            9.13743       \n",
      "\u001b[J391         0.00010615  0.000341951           9.16024       \n",
      "\u001b[J392         0.000218975  0.000161234           9.18115       \n",
      "\u001b[J393         0.000186784  0.00021016            9.20403       \n",
      "\u001b[J394         0.0001744   0.000184767           9.22673       \n",
      "\u001b[J395         0.000122573  0.000211672           9.2522        \n"
     ]
    },
    {
     "name": "stdout",
     "output_type": "stream",
     "text": [
      "\u001b[J396         0.000147337  0.000213471           9.27719       \n",
      "\u001b[J397         0.000122706  0.000228166           9.30381       \n",
      "\u001b[J398         0.000206063  0.000197454           9.33027       \n",
      "\u001b[J399         0.000112187  0.00017477            9.36504       \n",
      "\u001b[J400         0.000120645  0.000141555           9.39683       \n",
      "\u001b[J401         9.1276e-05  0.000162736           9.43513       \n",
      "\u001b[J402         8.88441e-05  0.000358667           9.47          \n",
      "\u001b[J403         0.000103628  0.00014061            9.51603       \n",
      "\u001b[J404         9.21794e-05  0.000152919           9.55202       \n",
      "\u001b[J405         8.68356e-05  0.000140025           9.58907       \n",
      "\u001b[J406         0.00012344  0.000211771           9.62318       \n",
      "\u001b[J407         9.21111e-05  0.000207273           9.66064       \n",
      "\u001b[J408         0.000123211  0.000163336           9.70013       \n",
      "\u001b[J409         9.7845e-05  0.000193949           9.73888       \n",
      "\u001b[J410         0.000119947  0.000146648           9.76998       \n",
      "\u001b[J411         0.000105617  0.000147399           9.80473       \n",
      "\u001b[J412         7.84999e-05  0.00013424            9.83682       \n",
      "\u001b[J413         0.000141655  0.000182911           9.87167       \n",
      "\u001b[J414         0.000169277  0.00020338            9.90563       \n",
      "\u001b[J415         0.000204918  0.0002162             9.95546       \n",
      "\u001b[J416         0.000202407  0.000197148           9.99521       \n",
      "\u001b[J417         0.000111692  0.000178712           10.0426       \n",
      "\u001b[J418         0.000110103  0.000159096           10.0973       \n",
      "\u001b[J419         0.000124657  0.000128433           10.1431       \n",
      "\u001b[J420         0.000203327  0.000171682           10.1791       \n",
      "\u001b[J421         0.00011544  0.000149133           10.2166       \n",
      "\u001b[J422         9.48408e-05  0.000123438           10.2474       \n",
      "\u001b[J423         0.000104672  0.000229609           10.2785       \n",
      "\u001b[J424         0.000144179  0.000151477           10.3068       \n",
      "\u001b[J425         0.000112219  0.000226602           10.338        \n",
      "\u001b[J426         9.00591e-05  0.000128687           10.3688       \n",
      "\u001b[J427         7.98093e-05  0.000259726           10.401        \n",
      "\u001b[J428         7.72125e-05  0.000116864           10.4299       \n",
      "\u001b[J429         6.47762e-05  0.000174713           10.462        \n",
      "\u001b[J430         9.35565e-05  0.000122369           10.4918       \n",
      "\u001b[J431         8.06107e-05  0.000276108           10.5247       \n",
      "\u001b[J432         0.000137554  0.00011644            10.5564       \n",
      "\u001b[J433         9.88222e-05  0.000269379           10.5927       \n",
      "\u001b[J434         0.000144114  0.000127509           10.6235       \n",
      "\u001b[J435         0.000231147  0.000245624           10.6577       \n",
      "\u001b[J436         0.000186832  0.000518129           10.6899       \n",
      "\u001b[J437         0.000421601  0.00286845            10.7243       \n",
      "\u001b[J438         0.000625828  0.00202837            10.7466       \n",
      "\u001b[J439         0.000842576  0.00251466            10.7768       \n",
      "\u001b[J440         0.00108659  0.00175955            10.813        \n",
      "\u001b[J441         0.0010287   0.0025936             10.8588       \n",
      "\u001b[J442         0.00164085  0.00215075            10.8959       \n",
      "\u001b[J443         0.00126537  0.00147083            10.9355       \n",
      "\u001b[J444         0.000865269  0.000333655           10.9723       \n",
      "\u001b[J445         0.000780123  0.000357439           11.0119       \n",
      "\u001b[J446         0.000897813  0.00148338            11.0516       \n",
      "\u001b[J447         0.000564939  0.000493206           11.0914       \n",
      "\u001b[J448         0.000562362  0.00192966            11.1284       \n",
      "\u001b[J449         0.000571488  0.00203837            11.1679       \n",
      "\u001b[J450         0.000529363  0.000844372           11.206        \n",
      "\u001b[J451         0.000525625  0.000531803           11.247        \n",
      "\u001b[J452         0.000409038  0.00018772            11.2726       \n",
      "\u001b[J453         0.000244649  0.000233992           11.3004       \n",
      "\u001b[J454         0.000206232  0.000182837           11.3254       \n",
      "\u001b[J455         9.3982e-05  0.000444159           11.3526       \n",
      "\u001b[J456         0.000211827  0.000284258           11.3771       \n",
      "\u001b[J457         0.000132092  0.00031291            11.4039       \n",
      "\u001b[J458         0.00015696  0.00019307            11.4295       \n",
      "\u001b[J459         0.000188226  0.000317234           11.4567       \n",
      "\u001b[J460         0.000292995  0.000191396           11.4818       \n",
      "\u001b[J461         0.000377607  0.000152954           11.5103       \n",
      "\u001b[J462         0.000437924  0.000293435           11.5354       \n",
      "\u001b[J463         0.000330126  0.000255001           11.5627       \n",
      "\u001b[J464         0.000254555  0.000200928           11.5878       \n",
      "\u001b[J465         0.000157848  0.000179541           11.6143       \n",
      "\u001b[J466         0.000220476  0.000494007           11.6392       \n",
      "\u001b[J467         0.000251285  0.000630166           11.6662       \n",
      "\u001b[J468         0.000281418  0.000264689           11.6909       \n",
      "\u001b[J469         0.000194976  0.000128265           11.7184       \n",
      "\u001b[J470         0.000177556  0.000238896           11.747        \n",
      "\u001b[J471         0.000125843  0.000336823           11.7679       \n",
      "\u001b[J472         0.000181386  0.000216717           11.7868       \n",
      "\u001b[J473         0.000136889  0.0001061             11.8073       \n",
      "\u001b[J474         0.000145343  0.000149418           11.8265       \n",
      "\u001b[J475         9.22412e-05  0.000202196           11.847        \n",
      "\u001b[J476         0.000102399  0.00024491            11.8661       \n",
      "\u001b[J477         8.22121e-05  0.000141677           11.8866       \n",
      "\u001b[J478         0.0001125   0.000125114           11.9058       \n",
      "\u001b[J479         0.0001314   0.000189077           11.9379       \n",
      "\u001b[J480         0.000147927  0.000223226           11.9831       \n",
      "\u001b[J481         0.000158412  0.000144893           12.0322       \n",
      "\u001b[J482         0.00016544  0.000101153           12.0772       \n",
      "\u001b[J483         7.43413e-05  0.000106131           12.1275       \n",
      "\u001b[J484         5.96351e-05  9.13059e-05           12.168        \n",
      "\u001b[J485         5.36408e-05  0.000166542           12.2112       \n",
      "\u001b[J486         6.16885e-05  9.00139e-05           12.2501       \n",
      "\u001b[J487         4.47873e-05  0.00018742            12.2909       \n",
      "\u001b[J488         6.5558e-05  0.000111136           12.3283       \n",
      "\u001b[J489         5.57991e-05  8.64913e-05           12.3682       \n",
      "\u001b[J490         6.68906e-05  8.40014e-05           12.3886       \n",
      "\u001b[J491         5.46646e-05  0.000120991           12.4094       \n",
      "\u001b[J492         3.81087e-05  8.96908e-05           12.4354       \n",
      "\u001b[J493         5.35839e-05  8.92316e-05           12.4775       \n",
      "\u001b[J494         6.54824e-05  0.000105072           12.5167       \n",
      "\u001b[J495         4.74208e-05  0.000110088           12.5573       \n",
      "\u001b[J496         8.64848e-05  0.000103519           12.595        \n",
      "\u001b[J497         6.15213e-05  8.75678e-05           12.6352       \n",
      "\u001b[J498         4.40337e-05  8.51515e-05           12.6728       \n",
      "\u001b[J499         3.95213e-05  0.000116606           12.7128       \n",
      "\u001b[J500         4.41433e-05  0.000109377           12.7475       \n",
      "\u001b[J501         4.86965e-05  9.06405e-05           12.8061       \n",
      "\u001b[J502         3.96062e-05  0.000103465           12.8555       \n",
      "\u001b[J503         3.76293e-05  8.81956e-05           12.9009       \n",
      "\u001b[J504         3.91895e-05  8.77619e-05           12.9388       \n",
      "\u001b[J505         3.71548e-05  8.04359e-05           12.9801       \n",
      "\u001b[J506         4.60418e-05  9.36425e-05           13.0236       \n",
      "\u001b[J507         4.76125e-05  0.000104083           13.068        \n",
      "\u001b[J508         4.69531e-05  8.01734e-05           13.1088       \n",
      "\u001b[J509         3.96066e-05  0.000160266           13.153        \n",
      "\u001b[J510         6.0444e-05  0.000106003           13.1927       \n",
      "\u001b[J511         6.16855e-05  0.000109983           13.2393       \n",
      "\u001b[J512         5.58938e-05  0.000100359           13.2884       \n",
      "\u001b[J513         4.40725e-05  0.000105967           13.3334       \n",
      "\u001b[J514         4.96738e-05  9.7517e-05            13.3744       \n",
      "\u001b[J515         4.03992e-05  0.000109723           13.42         \n",
      "\u001b[J516         4.47346e-05  0.000100816           13.4651       \n",
      "\u001b[J517         5.21735e-05  0.000164839           13.5075       \n",
      "\u001b[J518         4.53491e-05  8.7238e-05            13.5484       \n",
      "\u001b[J519         4.37736e-05  0.000140045           13.5923       \n",
      "\u001b[J520         6.24516e-05  0.000102827           13.6331       \n",
      "\u001b[J521         7.98167e-05  0.000369732           13.68         \n",
      "\u001b[J522         0.000150521  0.000510567           13.7203       \n",
      "\u001b[J523         0.000215279  0.000627345           13.7626       \n",
      "\u001b[J524         0.000258378  0.000733247           13.802        \n"
     ]
    },
    {
     "name": "stdout",
     "output_type": "stream",
     "text": [
      "\u001b[J525         0.000266176  0.00027363            13.8448       \n",
      "\u001b[J526         0.00015024  0.00015937            13.8855       \n",
      "\u001b[J527         0.000123448  0.00029381            13.9292       \n",
      "\u001b[J528         0.000109108  0.000221504           13.9688       \n",
      "\u001b[J529         9.1825e-05  0.000264656           14.0124       \n",
      "\u001b[J530         0.000100641  0.000172271           14.0531       \n",
      "\u001b[J531         8.81487e-05  0.000182264           14.0997       \n",
      "\u001b[J532         6.90125e-05  8.93839e-05           14.1437       \n",
      "\u001b[J533         5.48338e-05  9.4284e-05            14.1901       \n",
      "\u001b[J534         6.40755e-05  0.000136421           14.2313       \n",
      "\u001b[J535         7.23852e-05  0.000119798           14.2621       \n",
      "\u001b[J536         5.78313e-05  7.65649e-05           14.2919       \n",
      "\u001b[J537         5.52948e-05  0.000110663           14.3224       \n",
      "\u001b[J538         5.22311e-05  0.000112576           14.3512       \n",
      "\u001b[J539         6.04768e-05  0.000117853           14.3816       \n",
      "\u001b[J540         6.59321e-05  0.000115364           14.4098       \n",
      "\u001b[J541         7.65364e-05  0.000196922           14.4405       \n",
      "\u001b[J542         0.00011433  0.000136751           14.469        \n",
      "\u001b[J543         9.0813e-05  0.00018507            14.509        \n",
      "\u001b[J544         0.000154767  0.000228178           14.54         \n",
      "\u001b[J545         0.000148859  0.00027227            14.5701       \n",
      "\u001b[J546         0.000152792  0.000146165           14.5988       \n",
      "\u001b[J547         5.40871e-05  0.000155187           14.6296       \n",
      "\u001b[J548         0.000104023  0.000133968           14.6649       \n",
      "\u001b[J549         8.09109e-05  0.000165063           14.7126       \n",
      "\u001b[J550         7.4408e-05  0.000207003           14.7612       \n",
      "\u001b[J551         5.47227e-05  0.000272487           14.8096       \n",
      "\u001b[J552         9.11315e-05  0.000427147           14.8576       \n",
      "\u001b[J553         0.000129287  0.000323192           14.9156       \n",
      "\u001b[J554         0.000132607  0.000298072           14.9609       \n",
      "\u001b[J555         0.000151325  0.000534397           15.0079       \n",
      "\u001b[J556         0.000142478  0.000445354           15.0645       \n",
      "\u001b[J557         0.000101693  0.000133943           15.112        \n",
      "\u001b[J558         5.11007e-05  0.000162068           15.1621       \n",
      "\u001b[J559         8.11853e-05  9.19801e-05           15.2004       \n",
      "\u001b[J560         9.02122e-05  9.35915e-05           15.235        \n",
      "\u001b[J561         4.42203e-05  7.68263e-05           15.2725       \n",
      "\u001b[J562         6.35211e-05  8.77801e-05           15.3059       \n",
      "\u001b[J563         5.06669e-05  0.000110646           15.3407       \n",
      "\u001b[J564         7.99339e-05  0.000106205           15.3731       \n",
      "\u001b[J565         6.71662e-05  8.00907e-05           15.4084       \n",
      "\u001b[J566         5.65242e-05  8.78436e-05           15.4422       \n",
      "\u001b[J567         4.65883e-05  0.000150445           15.478        \n",
      "\u001b[J568         8.76273e-05  0.000275158           15.5116       \n",
      "\u001b[J569         0.000169926  0.000193731           15.5463       \n",
      "\u001b[J570         0.000150567  0.000291652           15.5784       \n",
      "\u001b[J571         0.000202596  0.000208555           15.615        \n",
      "\u001b[J572         0.000213524  0.000190428           15.6479       \n",
      "\u001b[J573         0.000189138  0.000460181           15.6834       \n",
      "\u001b[J574         0.000190228  0.000639049           15.7165       \n",
      "\u001b[J575         0.000396474  0.000170484           15.7464       \n",
      "\u001b[J576         0.000272687  0.000267507           15.7721       \n",
      "\u001b[J577         0.000144839  0.000353656           15.7983       \n",
      "\u001b[J578         0.000167098  0.00040598            15.8229       \n",
      "\u001b[J579         0.000183283  0.000383785           15.8486       \n",
      "\u001b[J580         0.000316356  0.000181666           15.8723       \n",
      "\u001b[J581         0.000222986  0.000182244           15.8981       \n",
      "\u001b[J582         0.000147205  0.000149443           15.9223       \n",
      "\u001b[J583         0.000176011  0.000383245           15.9481       \n",
      "\u001b[J584         8.80712e-05  0.000183418           15.972        \n",
      "\u001b[J585         9.71654e-05  8.69902e-05           15.9976       \n",
      "\u001b[J586         6.87253e-05  8.62172e-05           16.0246       \n",
      "\u001b[J587         9.05796e-05  0.000360667           16.0508       \n",
      "\u001b[J588         0.000170898  0.000239636           16.0751       \n",
      "\u001b[J589         0.000188261  0.000844651           16.1019       \n",
      "\u001b[J590         0.000242421  0.00134601            16.1266       \n",
      "\u001b[J591         0.000439934  0.00284082            16.179        \n",
      "\u001b[J592         0.00069165  0.00345072            16.2265       \n",
      "\u001b[J593         0.00102181  0.00542336            16.2836       \n",
      "\u001b[J594         0.00149324  0.00619258            16.3287       \n",
      "\u001b[J595         0.001376    0.00310813            16.3756       \n",
      "\u001b[J596         0.00116579  0.00285414            16.4207       \n",
      "\u001b[J597         0.00168934  0.00137888            16.4699       \n",
      "\u001b[J598         0.00122503  0.00335402            16.5151       \n",
      "\u001b[J599         0.00150158  0.00241038            16.5645       \n",
      "\u001b[J600         0.00132747  0.000947073           16.6092       \n",
      "\u001b[J601         0.000894686  0.00155552            16.6564       \n",
      "\u001b[J602         0.000758443  0.00143027            16.7001       \n",
      "\u001b[J603         0.000369576  0.00149472            16.7421       \n",
      "\u001b[J604         0.000450908  0.00110516            16.7739       \n",
      "\u001b[J605         0.000470881  0.00110958            16.8062       \n",
      "\u001b[J606         0.000736976  0.000460458           16.8352       \n",
      "\u001b[J607         0.000500115  0.000712955           16.867        \n",
      "\u001b[J608         0.000339654  0.000480266           16.8978       \n",
      "\u001b[J609         0.000400515  0.000656058           16.9292       \n",
      "\u001b[J610         0.00047707  0.000604163           16.959        \n",
      "\u001b[J611         0.00042271  0.00229985            16.9899       \n",
      "\u001b[J612         0.000540791  0.00380199            17.0191       \n",
      "\u001b[J613         0.000929966  0.00258058            17.0509       \n",
      "\u001b[J614         0.00083622  0.00108846            17.0802       \n",
      "\u001b[J615         0.000692909  0.00292588            17.112        \n",
      "\u001b[J616         0.000658084  0.00493159            17.1439       \n",
      "\u001b[J617         0.00404014  0.0101301             17.1819       \n",
      "\u001b[J618         0.00170465  0.00935289            17.2109       \n",
      "\u001b[J619         0.00426054  0.0185331             17.2429       \n",
      "\u001b[J620         0.00540869  0.00596966            17.266        \n",
      "\u001b[J621         0.00158776  0.00626317            17.2926       \n",
      "\u001b[J622         0.00168185  0.00175098            17.3215       \n",
      "\u001b[J623         0.00093511  0.00150473            17.351        \n",
      "\u001b[J624         0.000883334  0.000365264           17.3818       \n",
      "\u001b[J625         0.00068331  0.00130044            17.4076       \n",
      "\u001b[J626         0.000893967  0.000207663           17.4313       \n",
      "\u001b[J627         0.000645504  0.000604448           17.4566       \n",
      "\u001b[J628         0.000318763  0.000151155           17.4801       \n",
      "\u001b[J629         0.00025915  0.000121382           17.5097       \n",
      "\u001b[J630         0.000147678  0.000271592           17.5344       \n",
      "\u001b[J631         0.000117603  0.000150412           17.5594       \n",
      "\u001b[J632         0.000102097  0.000223245           17.5846       \n",
      "\u001b[J633         0.000102923  0.000270256           17.6106       \n",
      "\u001b[J634         0.000145949  0.000254499           17.6356       \n",
      "\u001b[J635         0.00017068  0.000318625           17.6611       \n",
      "\u001b[J636         0.000185997  0.000293157           17.685        \n",
      "\u001b[J637         0.000259311  0.00041061            17.721        \n",
      "\u001b[J638         0.000559615  0.000279562           17.7664       \n",
      "\u001b[J639         0.00029896  0.000298948           17.8188       \n",
      "\u001b[J640         0.000484523  0.00034862            17.8655       \n",
      "\u001b[J641         0.000224187  0.000158959           17.916        \n",
      "\u001b[J642         0.000218375  8.15135e-05           17.9625       \n",
      "\u001b[J643         8.40082e-05  0.000114494           18.0134       \n",
      "\u001b[J644         0.000130075  7.76373e-05           18.062        \n",
      "\u001b[J645         0.000124221  9.87881e-05           18.111        \n",
      "\u001b[J646         0.000226294  0.000255649           18.1557       \n",
      "\u001b[J647         0.000231924  0.000357657           18.2043       \n",
      "\u001b[J648         0.000220515  9.66171e-05           18.2493       \n",
      "\u001b[J649         0.000175048  0.000179663           18.2844       \n",
      "\u001b[J650         0.000246831  0.000170068           18.3105       \n",
      "\u001b[J651         0.000237101  0.000111052           18.3389       \n",
      "\u001b[J652         0.000240167  0.000148867           18.3649       \n",
      "\u001b[J653         0.000203634  0.000321897           18.3932       \n",
      "\u001b[J654         0.000156791  0.000101968           18.4196       \n",
      "\u001b[J655         0.000122262  9.34237e-05           18.4478       \n"
     ]
    },
    {
     "name": "stdout",
     "output_type": "stream",
     "text": [
      "\u001b[J656         8.54519e-05  0.000113444           18.4739       \n",
      "\u001b[J657         6.45575e-05  9.28743e-05           18.5131       \n",
      "\u001b[J658         9.16918e-05  7.6885e-05            18.5583       \n",
      "\u001b[J659         6.11415e-05  8.5914e-05            18.6162       \n",
      "\u001b[J660         7.65036e-05  8.41358e-05           18.6639       \n",
      "\u001b[J661         4.38195e-05  0.000188086           18.7202       \n",
      "\u001b[J662         4.31376e-05  0.000233818           18.7724       \n",
      "\u001b[J663         9.64759e-05  0.000443152           18.8224       \n",
      "\u001b[J664         0.000116098  0.000109997           18.8472       \n",
      "\u001b[J665         7.77849e-05  0.000187856           18.8724       \n",
      "\u001b[J666         5.91711e-05  0.00016139            18.8976       \n",
      "\u001b[J667         0.000109058  0.000215455           18.9245       \n",
      "\u001b[J668         0.000114669  0.00025487            18.9499       \n",
      "\u001b[J669         8.16787e-05  0.000252762           18.9863       \n",
      "\u001b[J670         9.29028e-05  0.00011776            19.0325       \n",
      "\u001b[J671         0.000141084  0.000760703           19.081        \n",
      "\u001b[J672         0.000220427  0.000323074           19.1261       \n",
      "\u001b[J673         0.000228557  0.00112782            19.1754       \n",
      "\u001b[J674         0.000319763  0.000483418           19.2207       \n",
      "\u001b[J675         0.000249022  0.0014191             19.264        \n",
      "\u001b[J676         0.000467023  0.000531094           19.3046       \n",
      "\u001b[J677         0.00028738  0.000712578           19.3486       \n",
      "\u001b[J678         0.000232671  0.000251726           19.3953       \n",
      "\u001b[J679         0.000189696  0.000392637           19.4486       \n",
      "\u001b[J680         0.000169965  0.000207567           19.4955       \n",
      "\u001b[J681         0.000212246  0.00074484            19.5458       \n",
      "\u001b[J682         0.000235994  0.000206836           19.6196       \n",
      "\u001b[J683         0.000162351  9.55555e-05           19.6823       \n",
      "\u001b[J684         7.4004e-05  0.000113011           19.7363       \n",
      "\u001b[J685         7.51313e-05  0.000110626           19.7853       \n",
      "\u001b[J686         6.25839e-05  8.9913e-05            19.8592       \n",
      "\u001b[J687         4.91879e-05  0.000109416           19.923        \n",
      "\u001b[J688         6.21335e-05  8.13692e-05           19.973        \n",
      "\u001b[J689         5.88821e-05  0.000353623           20.0255       \n",
      "\u001b[J690         0.00014093  0.000143625           20.0746       \n",
      "\u001b[J691         0.000114534  0.000522396           20.1314       \n",
      "\u001b[J692         0.00023316  0.000405624           20.1826       \n",
      "\u001b[J693         0.000172309  0.000780802           20.2349       \n",
      "\u001b[J694         0.000218174  0.000439901           20.2797       \n",
      "\u001b[J695         0.000125543  0.000289558           20.3306       \n",
      "\u001b[J696         0.000115036  0.000232212           20.3769       \n",
      "\u001b[J697         0.000102766  9.88289e-05           20.4257       \n",
      "\u001b[J698         5.45309e-05  0.000233905           20.4723       \n",
      "\u001b[J699         0.000112082  0.000954853           20.5223       \n",
      "\u001b[J700         0.00024625  0.000523065           20.5763       \n",
      "\u001b[J701         0.000294823  0.000570846           20.6294       \n",
      "\u001b[J702         0.000331703  0.000170114           20.6766       \n",
      "\u001b[J703         0.000243351  0.000407421           20.7298       \n",
      "\u001b[J704         0.000177215  0.000359761           20.7658       \n",
      "\u001b[J705         0.000146194  0.000229554           20.8034       \n",
      "\u001b[J706         0.000131186  0.000278364           20.8419       \n",
      "\u001b[J707         0.000129887  0.000100977           20.879        \n",
      "\u001b[J708         0.000115658  0.000109221           20.9143       \n",
      "\u001b[J709         6.92103e-05  0.000213293           20.9517       \n",
      "\u001b[J710         9.36356e-05  9.39498e-05           20.9872       \n",
      "\u001b[J711         6.05155e-05  0.000110218           21.0262       \n",
      "\u001b[J712         7.76755e-05  8.30014e-05           21.0578       \n",
      "\u001b[J713         7.21343e-05  0.000130662           21.0843       \n",
      "\u001b[J714         2.02815e-05  0.000103333           21.1094       \n",
      "\u001b[J715         5.25031e-05  0.000172786           21.1365       \n",
      "\u001b[J716         5.99123e-05  0.000128621           21.162        \n",
      "\u001b[J717         8.37933e-05  0.000323512           21.189        \n",
      "\u001b[J718         0.000168499  0.000608986           21.2166       \n",
      "\u001b[J719         0.000192725  0.000876624           21.258        \n",
      "\u001b[J720         0.000190893  0.000214576           21.3098       \n",
      "\u001b[J721         0.000193608  0.00131492            21.353        \n",
      "\u001b[J722         0.000400722  0.00113515            21.3931       \n",
      "\u001b[J723         0.000711229  0.00490957            21.4322       \n",
      "\u001b[J724         0.00120609  0.00254611            21.4596       \n",
      "\u001b[J725         0.00142372  0.00798985            21.488        \n",
      "\u001b[J726         0.00225723  0.00216456            21.5222       \n",
      "\u001b[J727         0.00137728  0.00601677            21.5764       \n",
      "\u001b[J728         0.00168318  0.004038              21.631        \n",
      "\u001b[J729         0.000985721  0.00153067            21.6835       \n",
      "\u001b[J730         0.000752261  0.000595889           21.7343       \n",
      "\u001b[J731         0.00101982  0.00269929            21.7901       \n",
      "\u001b[J732         0.000777913  0.00110345            21.8426       \n",
      "\u001b[J733         0.000588378  0.000390113           21.8992       \n",
      "\u001b[J734         0.000226886  0.000290773           21.9542       \n",
      "\u001b[J735         0.000254686  0.000311946           22.0225       \n",
      "\u001b[J736         0.000360186  0.00111653            22.2303       \n",
      "\u001b[J737         0.000453054  0.00049502            22.2897       \n",
      "\u001b[J738         0.000371639  0.000392603           22.344        \n",
      "\u001b[J739         0.000225735  0.000390608           22.4025       \n",
      "\u001b[J740         0.000276677  0.000374323           22.4622       \n",
      "\u001b[J741         0.000301607  0.000336955           22.5216       \n",
      "\u001b[J742         0.000134458  0.000133753           22.5779       \n",
      "\u001b[J743         7.22416e-05  0.000129806           22.6376       \n",
      "\u001b[J744         0.000104804  0.000187812           22.6957       \n",
      "\u001b[J745         0.000228852  0.000115767           22.7548       \n",
      "\u001b[J746         0.000178371  0.000118637           22.8114       \n",
      "\u001b[J747         0.000114251  0.000248238           22.869        \n",
      "\u001b[J748         0.000101476  0.000191604           22.9237       \n",
      "\u001b[J749         7.27068e-05  0.000143453           22.9789       \n",
      "\u001b[J750         0.000123463  0.000196624           23.0251       \n",
      "\u001b[J751         9.41547e-05  0.000272089           23.0745       \n",
      "\u001b[J752         0.000122859  0.000173264           23.1371       \n",
      "\u001b[J753         6.38447e-05  0.000201762           23.209        \n",
      "\u001b[J754         7.93821e-05  0.000145358           23.268        \n",
      "\u001b[J755         6.29256e-05  0.000100186           23.3431       \n",
      "\u001b[J756         5.5899e-05  9.70401e-05           23.4041       \n",
      "\u001b[J757         3.96094e-05  9.13797e-05           23.4591       \n",
      "\u001b[J758         4.33259e-05  0.000137263           23.511        \n",
      "\u001b[J759         5.18906e-05  0.000125466           23.5668       \n",
      "\u001b[J760         4.16206e-05  8.73176e-05           23.6216       \n",
      "\u001b[J761         4.35064e-05  0.000105006           23.6818       \n",
      "\u001b[J762         4.38513e-05  0.000130845           23.7356       \n",
      "\u001b[J763         4.91989e-05  0.000127239           23.7721       \n",
      "\u001b[J764         5.90801e-05  0.000115199           23.8059       \n",
      "\u001b[J765         4.34647e-05  0.000112898           23.846        \n",
      "\u001b[J766         5.57861e-05  0.000109087           23.8813       \n",
      "\u001b[J767         5.23807e-05  9.74079e-05           23.9184       \n",
      "\u001b[J768         7.49438e-05  0.000105142           23.9532       \n",
      "\u001b[J769         6.99505e-05  0.000148305           23.99         \n",
      "\u001b[J770         0.000132853  0.00013697            24.0294       \n",
      "\u001b[J771         6.71221e-05  0.000101272           24.0683       \n",
      "\u001b[J772         7.56918e-05  0.000232831           24.1024       \n",
      "\u001b[J773         7.27503e-05  0.000115153           24.1386       \n",
      "\u001b[J774         5.02586e-05  0.000121867           24.1729       \n",
      "\u001b[J775         6.43914e-05  0.000148021           24.2093       \n",
      "\u001b[J776         8.159e-05   0.000191123           24.2399       \n",
      "\u001b[J777         7.75151e-05  0.000115189           24.2729       \n",
      "\u001b[J778         4.29232e-05  9.85575e-05           24.3087       \n",
      "\u001b[J779         5.37655e-05  0.000207303           24.3462       \n",
      "\u001b[J780         7.27654e-05  0.000239215           24.3814       \n",
      "\u001b[J781         6.62728e-05  0.000108692           24.4182       \n",
      "\u001b[J782         6.787e-05   0.000163823           24.4534       \n",
      "\u001b[J783         4.12314e-05  0.000176004           24.4975       \n",
      "\u001b[J784         0.000116763  0.000332492           24.5519       \n",
      "\u001b[J785         0.00021644  0.000400488           24.61         \n"
     ]
    },
    {
     "name": "stdout",
     "output_type": "stream",
     "text": [
      "\u001b[J786         0.000247665  0.000227307           24.665        \n",
      "\u001b[J787         0.000114571  0.000132031           24.7244       \n",
      "\u001b[J788         0.000106823  0.000562675           24.7653       \n",
      "\u001b[J789         0.000202302  0.000220616           24.8092       \n",
      "\u001b[J790         0.000132193  0.000189809           24.8793       \n",
      "\u001b[J791         0.000112457  0.00017763            24.9299       \n",
      "\u001b[J792         0.000100104  0.000474185           25.008        \n",
      "\u001b[J793         0.000143189  0.00022529            25.0608       \n",
      "\u001b[J794         0.000153215  0.000189915           25.1115       \n",
      "\u001b[J795         0.000104999  0.000741447           25.1699       \n",
      "\u001b[J796         0.000204191  0.000358528           25.2259       \n",
      "\u001b[J797         0.000123643  0.000275138           25.2696       \n",
      "\u001b[J798         9.50977e-05  0.000188927           25.3114       \n",
      "\u001b[J799         0.00010884  0.000115377           25.3567       \n",
      "\u001b[J800         4.69741e-05  0.000179103           25.3978       \n",
      "\u001b[J801         7.2613e-05  7.78857e-05           25.4411       \n",
      "\u001b[J802         4.11941e-05  7.32297e-05           25.4814       \n",
      "\u001b[J803         2.68081e-05  8.63566e-05           25.5239       \n",
      "\u001b[J804         3.94469e-05  8.6971e-05            25.5651       \n",
      "\u001b[J805         5.05045e-05  0.000116389           25.6152       \n",
      "\u001b[J806         4.50636e-05  0.000112837           25.6737       \n",
      "\u001b[J807         5.14636e-05  9.98038e-05           25.7406       \n",
      "\u001b[J808         4.15679e-05  8.8427e-05            25.7942       \n",
      "\u001b[J809         3.23757e-05  0.000114338           25.8529       \n",
      "\u001b[J810         5.18444e-05  8.08097e-05           25.9068       \n",
      "\u001b[J811         5.38478e-05  0.000158549           25.9644       \n",
      "\u001b[J812         0.000104103  0.000109897           26.0184       \n",
      "\u001b[J813         8.78224e-05  0.000434771           26.0815       \n",
      "\u001b[J814         0.000163103  0.000512484           26.1371       \n",
      "\u001b[J815         0.000247225  0.000455286           26.1972       \n",
      "\u001b[J816         0.000172411  0.000385678           26.243        \n",
      "\u001b[J817         0.000132063  0.000518484           26.28         \n",
      "\u001b[J818         0.000145356  0.000194298           26.3132       \n",
      "\u001b[J819         6.6318e-05  8.53286e-05           26.3485       \n",
      "\u001b[J820         5.43398e-05  8.51857e-05           26.3824       \n",
      "\u001b[J821         4.21481e-05  6.83852e-05           26.4184       \n",
      "\u001b[J822         2.65671e-05  8.01138e-05           26.4523       \n",
      "\u001b[J823         2.08524e-05  8.33986e-05           26.4911       \n",
      "\u001b[J824         3.11146e-05  9.02002e-05           26.5251       \n",
      "\u001b[J825         3.19167e-05  9.62306e-05           26.5609       \n",
      "\u001b[J826         4.53771e-05  7.34332e-05           26.5959       \n",
      "\u001b[J827         2.48763e-05  8.31204e-05           26.6321       \n",
      "\u001b[J828         2.99359e-05  8.46421e-05           26.6663       \n",
      "\u001b[J829         3.40744e-05  0.000105848           26.7051       \n",
      "\u001b[J830         3.84115e-05  0.000119899           26.7428       \n",
      "\u001b[J831         9.362e-05   0.000100516           26.7759       \n",
      "\u001b[J832         0.000101085  0.000123089           26.8054       \n",
      "\u001b[J833         5.39384e-05  9.28005e-05           26.836        \n",
      "\u001b[J834         5.15153e-05  8.76033e-05           26.8648       \n",
      "\u001b[J835         2.48645e-05  8.60444e-05           26.9155       \n",
      "\u001b[J836         3.50295e-05  8.92894e-05           26.9948       \n",
      "\u001b[J837         3.21585e-05  8.61707e-05           27.0578       \n",
      "\u001b[J838         1.92006e-05  8.14205e-05           27.1191       \n",
      "\u001b[J839         3.36025e-05  0.000208251           27.1774       \n",
      "\u001b[J840         6.75609e-05  0.000169017           27.2316       \n",
      "\u001b[J841         7.28107e-05  0.000140801           27.2812       \n",
      "\u001b[J842         3.05127e-05  0.000173839           27.3306       \n",
      "\u001b[J843         3.32202e-05  0.00018008            27.3821       \n",
      "\u001b[J844         3.37068e-05  0.00015078            27.4309       \n",
      "\u001b[J845         7.84705e-05  9.92845e-05           27.4824       \n",
      "\u001b[J846         9.75581e-05  0.000248653           27.5373       \n",
      "\u001b[J847         7.08986e-05  0.000925126           27.6011       \n",
      "\u001b[J848         0.000295188  0.00065295            27.6581       \n",
      "\u001b[J849         0.000271928  0.000683556           27.7214       \n",
      "\u001b[J850         0.000271886  0.000236983           27.7788       \n",
      "\u001b[J851         0.000157661  0.000172892           27.8403       \n",
      "\u001b[J852         0.000155718  0.000161885           27.8962       \n",
      "\u001b[J853         0.000106454  0.000404921           27.9599       \n",
      "\u001b[J854         0.000169363  0.00126807            28.0161       \n",
      "\u001b[J855         0.000349426  0.000616227           28.0784       \n",
      "\u001b[J856         0.00024574  0.000675076           28.1385       \n",
      "\u001b[J857         0.000197598  0.000378291           28.2019       \n",
      "\u001b[J858         0.000192957  0.000625417           28.2646       \n",
      "\u001b[J859         0.000131246  0.000183738           28.3281       \n",
      "\u001b[J860         0.000101388  0.000357537           28.3863       \n",
      "\u001b[J861         0.000102454  0.000221759           28.4465       \n",
      "\u001b[J862         7.35348e-05  0.000303911           28.5029       \n",
      "\u001b[J863         0.000132066  0.000379637           28.5673       \n",
      "\u001b[J864         0.000216706  0.000402097           28.6251       \n",
      "\u001b[J865         0.000220589  0.000911781           28.6875       \n",
      "\u001b[J866         0.000166024  0.000620292           28.7479       \n",
      "\u001b[J867         0.000350827  0.00170155            28.7905       \n",
      "\u001b[J868         0.00103007  0.00324658            28.8282       \n",
      "\u001b[J869         0.00227715  0.00387514            28.8673       \n",
      "\u001b[J870         0.000741287  0.00292942            28.9049       \n",
      "\u001b[J871         0.000733911  0.00111117            28.9447       \n",
      "\u001b[J872         0.000906119  0.00109408            28.984        \n",
      "\u001b[J873         0.000494106  0.000222814           29.0249       \n",
      "\u001b[J874         0.000383452  0.000591801           29.0632       \n",
      "\u001b[J875         0.00046395  0.000220737           29.1058       \n",
      "\u001b[J876         0.000535936  0.00033803            29.1429       \n",
      "\u001b[J877         0.000522158  0.000815033           29.1817       \n",
      "\u001b[J878         0.000649003  0.000661783           29.2264       \n",
      "\u001b[J879         0.000602926  0.00022748            29.288        \n",
      "\u001b[J880         0.000468739  0.000296138           29.3457       \n",
      "\u001b[J881         0.000425723  0.000614356           29.407        \n",
      "\u001b[J882         0.000526516  0.000839474           29.4655       \n",
      "\u001b[J883         0.00172693  0.00193681            29.5273       \n",
      "\u001b[J884         0.00167697  0.00237915            29.5881       \n",
      "\u001b[J885         0.00165808  0.0007534             29.6509       \n",
      "\u001b[J886         0.000502196  0.000457325           29.6914       \n",
      "\u001b[J887         0.000611651  0.000221786           29.7388       \n",
      "\u001b[J888         0.000184832  0.000666831           29.8009       \n",
      "\u001b[J889         0.000217108  0.000598501           29.8656       \n",
      "\u001b[J890         0.00032645  0.000636623           29.9292       \n",
      "\u001b[J891         0.000363721  0.000275461           29.9941       \n",
      "\u001b[J892         0.00072043  0.000433983           30.0557       \n",
      "\u001b[J893         0.000526419  0.000847908           30.1199       \n",
      "\u001b[J894         0.000418172  0.000940891           30.1907       \n",
      "\u001b[J895         0.000450201  0.0017834             30.2652       \n",
      "\u001b[J896         0.000445361  0.0013243             30.3357       \n",
      "\u001b[J897         0.000295785  0.000609398           30.4361       \n",
      "\u001b[J898         0.000192312  0.000626817           30.5022       \n",
      "\u001b[J899         0.000319602  0.000520593           30.5737       \n",
      "\u001b[J900         0.000196759  0.00152853            30.6367       \n",
      "\u001b[J901         0.000215901  0.000618284           30.7087       \n",
      "\u001b[J902         0.000184962  0.000926138           30.7542       \n",
      "\u001b[J903         0.000545803  0.000338549           30.7962       \n",
      "\u001b[J904         0.000275413  0.000600285           30.8353       \n",
      "\u001b[J905         0.000325343  0.000312493           30.8764       \n",
      "\u001b[J906         0.000240626  0.000293699           30.9212       \n",
      "\u001b[J907         0.000180224  0.00015679            30.9623       \n",
      "\u001b[J908         0.000129769  0.000134524           31.0015       \n",
      "\u001b[J909         8.35184e-05  0.000336455           31.0426       \n",
      "\u001b[J910         7.6722e-05  0.000144167           31.0816       \n",
      "\u001b[J911         9.06949e-05  0.00031364            31.1255       \n",
      "\u001b[J912         9.70977e-05  0.000167332           31.1668       \n",
      "\u001b[J913         0.000108933  8.50787e-05           31.21         \n",
      "\u001b[J914         0.000103051  9.30526e-05           31.2469       \n",
      "\u001b[J915         8.63868e-05  0.000183777           31.2797       \n"
     ]
    },
    {
     "name": "stdout",
     "output_type": "stream",
     "text": [
      "\u001b[J916         0.000136222  0.00016508            31.3111       \n",
      "\u001b[J917         0.00011449  0.000415967           31.3523       \n",
      "\u001b[J918         0.000166658  0.000606152           31.4123       \n",
      "\u001b[J919         0.000327205  0.000584269           31.475        \n",
      "\u001b[J920         0.000214694  0.000702723           31.5344       \n",
      "\u001b[J921         0.000181739  0.000309057           31.5985       \n",
      "\u001b[J922         0.000115235  0.000458816           31.6582       \n",
      "\u001b[J923         0.000155706  7.75644e-05           31.7212       \n",
      "\u001b[J924         0.000105326  0.000304588           31.7659       \n",
      "\u001b[J925         0.000114291  0.000211653           31.8175       \n",
      "\u001b[J926         0.000107751  0.000144706           31.879        \n",
      "\u001b[J927         5.90215e-05  7.44998e-05           31.9432       \n",
      "\u001b[J928         4.23729e-05  0.000156496           32.0057       \n",
      "\u001b[J929         7.27623e-05  0.000133861           32.0696       \n",
      "\u001b[J930         5.32419e-05  9.94597e-05           32.1309       \n",
      "\u001b[J931         6.28149e-05  0.00025963            32.1972       \n",
      "\u001b[J932         6.88915e-05  0.000118405           32.2631       \n",
      "\u001b[J933         6.11495e-05  0.000179908           32.3109       \n",
      "\u001b[J934         6.3963e-05  0.000125862           32.3565       \n",
      "\u001b[J935         0.000107145  0.000248858           32.4083       \n",
      "\u001b[J936         9.32147e-05  0.000182533           32.4535       \n",
      "\u001b[J937         0.000130758  0.000127163           32.5065       \n",
      "\u001b[J938         6.78045e-05  0.000115179           32.5724       \n",
      "\u001b[J939         6.50595e-05  0.000151448           32.6497       \n",
      "\u001b[J940         8.8012e-05  7.8151e-05            32.711        \n",
      "\u001b[J941         7.48502e-05  0.000127933           32.7748       \n",
      "\u001b[J942         6.03832e-05  0.000125009           32.8306       \n",
      "\u001b[J943         4.80926e-05  7.92715e-05           32.8892       \n",
      "\u001b[J944         2.68994e-05  8.0848e-05            32.9436       \n",
      "\u001b[J945         2.55361e-05  6.57202e-05           32.9944       \n",
      "\u001b[J946         3.10628e-05  9.06447e-05           33.0384       \n",
      "\u001b[J947         4.04368e-05  8.8795e-05            33.0855       \n",
      "\u001b[J948         3.8923e-05  6.81231e-05           33.1298       \n",
      "\u001b[J949         3.68682e-05  0.000114565           33.1758       \n",
      "\u001b[J950         4.02481e-05  9.74216e-05           33.222        \n",
      "\u001b[J951         2.49033e-05  0.000109428           33.2632       \n",
      "\u001b[J952         4.57532e-05  9.83115e-05           33.3005       \n",
      "\u001b[J953         4.25551e-05  8.24565e-05           33.3396       \n",
      "\u001b[J954         5.32104e-05  9.03357e-05           33.377        \n",
      "\u001b[J955         3.37285e-05  8.05627e-05           33.4189       \n",
      "\u001b[J956         3.11377e-05  8.30663e-05           33.4566       \n",
      "\u001b[J957         4.9483e-05  9.02611e-05           33.4963       \n",
      "\u001b[J958         4.04673e-05  0.000106802           33.5341       \n",
      "\u001b[J959         4.92127e-05  7.64375e-05           33.5735       \n",
      "\u001b[J960         4.01128e-05  0.000125353           33.6118       \n",
      "\u001b[J961         5.27718e-05  0.000100188           33.6595       \n",
      "\u001b[J962         8.51411e-05  8.12506e-05           33.6974       \n",
      "\u001b[J963         4.92026e-05  0.000336581           33.7357       \n",
      "\u001b[J964         0.000114904  0.000354257           33.7674       \n",
      "\u001b[J965         0.00016832  0.000630064           33.8007       \n",
      "\u001b[J966         0.000114437  0.000493145           33.8327       \n",
      "\u001b[J967         0.000233144  0.00266628            33.8662       \n",
      "\u001b[J968         0.0013094   0.0089579             33.8991       \n",
      "\u001b[J969         0.00487524  0.000128291           33.9335       \n",
      "\u001b[J970         0.00289621  0.000202831           33.9673       \n",
      "\u001b[J971         0.00182802  0.0122319             34.0008       \n",
      "\u001b[J972         0.0025862   0.00409063            34.0334       \n",
      "\u001b[J973         0.00174959  0.00350203            34.0699       \n",
      "\u001b[J974         0.00139013  0.00319846            34.1283       \n",
      "\u001b[J975         0.00180133  0.0108569             34.1633       \n",
      "\u001b[J976         0.00253391  0.0210536             34.1963       \n",
      "\u001b[J977         0.00441759  0.00670201            34.2308       \n",
      "\u001b[J978         0.00165329  0.0040977             34.2628       \n",
      "\u001b[J979         0.00158431  0.00218142            34.2962       \n",
      "\u001b[J980         0.0007996   0.0029643             34.3334       \n",
      "\u001b[J981         0.00151069  0.00114594            34.3856       \n",
      "\u001b[J982         0.00118797  0.00101765            34.4364       \n",
      "\u001b[J983         0.00102486  0.00264626            34.4885       \n",
      "\u001b[J984         0.000821793  0.00196023            34.5396       \n",
      "\u001b[J985         0.000532099  0.000299535           34.5925       \n",
      "\u001b[J986         0.00018427  0.000263273           34.6439       \n",
      "\u001b[J987         0.000154526  0.000512122           34.6966       \n",
      "\u001b[J988         0.000125033  0.000859739           34.7414       \n",
      "\u001b[J989         0.000182409  0.000676113           34.7799       \n",
      "\u001b[J990         0.000198881  0.000594301           34.8177       \n",
      "\u001b[J991         0.000140059  0.000356695           34.8569       \n",
      "\u001b[J992         0.000157261  0.000198627           34.8932       \n",
      "\u001b[J993         0.000129509  0.000148258           34.9279       \n",
      "\u001b[J994         0.000126889  0.000309812           34.9626       \n",
      "\u001b[J995         0.000186369  0.000137882           34.9987       \n",
      "\u001b[J996         0.000161928  0.000227644           35.0306       \n",
      "\u001b[J997         0.00026275  0.000407257           35.0648       \n",
      "\u001b[J998         0.0005617   0.000826884           35.0973       \n",
      "\u001b[J999         0.000610628  0.000268008           35.1314       \n",
      "\u001b[J1000        0.000620342  0.000284551           35.1644       \n"
     ]
    }
   ],
   "source": [
    "# 学習を実行！！\n",
    "trainer.run() # ちなみに自動的にログがresultフォルダにできている"
   ]
  },
  {
   "cell_type": "markdown",
   "metadata": {},
   "source": [
    "### それでは学習結果を見てみよう"
   ]
  },
  {
   "cell_type": "code",
   "execution_count": 290,
   "metadata": {
    "collapsed": true
   },
   "outputs": [],
   "source": [
    "import json\n",
    "with open('result/log') as f:\n",
    "     logs = json.load(f)"
   ]
  },
  {
   "cell_type": "code",
   "execution_count": 291,
   "metadata": {
    "collapsed": true
   },
   "outputs": [],
   "source": [
    "result_train = [ log['main/loss'] for log in logs ]\n",
    "result_test  = [ log['validation/main/loss'] for log in logs ]"
   ]
  },
  {
   "cell_type": "markdown",
   "metadata": {},
   "source": [
    "### 検証用のデータも収束しているかを注意すべき"
   ]
  },
  {
   "cell_type": "code",
   "execution_count": 289,
   "metadata": {},
   "outputs": [
    {
     "data": {
      "image/png": "[encoded data removed]",
      "text/plain": [
       "<matplotlib.figure.Figure at 0x7fb136893be0>"
      ]
     },
     "metadata": {},
     "output_type": "display_data"
    }
   ],
   "source": [
    "plt.plot(result_train, label='train')  # 訓練データ\n",
    "plt.plot(result_test,  label='test')  # 検証データ\n",
    "plt.legend()  # 凡例表示\n",
    "plt.show()"
   ]
  },
  {
   "cell_type": "code",
   "execution_count": 293,
   "metadata": {},
   "outputs": [
    {
     "data": {
      "image/png": "[encoded data removed]",
      "text/plain": [
       "<matplotlib.figure.Figure at 0x7fb136681780>"
      ]
     },
     "metadata": {},
     "output_type": "display_data"
    }
   ],
   "source": [
    "# プロット\n",
    "y = model.predict(x)\n",
    "plt.plot(x, t)\n",
    "plt.scatter(x, y.data)\n",
    "plt.show()"
   ]
  },
  {
   "cell_type": "code",
   "execution_count": null,
   "metadata": {
    "collapsed": true
   },
   "outputs": [],
   "source": []
  }
 ],
 "metadata": {
  "kernelspec": {
   "display_name": "Python 3",
   "language": "python",
   "name": "python3"
  },
  "language_info": {
   "codemirror_mode": {
    "name": "ipython",
    "version": 3
   },
   "file_extension": ".py",
   "mimetype": "text/x-python",
   "name": "python",
   "nbconvert_exporter": "python",
   "pygments_lexer": "ipython3",
   "version": "3.6.1"
  }
 },
 "nbformat": 4,
 "nbformat_minor": 2
}
